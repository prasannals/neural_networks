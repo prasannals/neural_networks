{
 "cells": [
  {
   "cell_type": "code",
   "execution_count": 1,
   "metadata": {
    "collapsed": false
   },
   "outputs": [
    {
     "name": "stderr",
     "output_type": "stream",
     "text": [
      "Using Theano backend.\n",
      "Using gpu device 0: Tesla K80 (CNMeM is disabled, cuDNN 5103)\n",
      "/home/ubuntu/anaconda2/lib/python2.7/site-packages/theano/sandbox/cuda/__init__.py:600: UserWarning: Your cuDNN version is more recent than the one Theano officially supports. If you see any problems, try updating Theano or downgrading cuDNN to version 5.\n",
      "  warnings.warn(warn)\n"
     ]
    }
   ],
   "source": [
    "import keras\n",
    "import numpy as np"
   ]
  },
  {
   "cell_type": "code",
   "execution_count": 18,
   "metadata": {
    "collapsed": true
   },
   "outputs": [],
   "source": [
    "np.random.seed(123)"
   ]
  },
  {
   "cell_type": "markdown",
   "metadata": {},
   "source": [
    "## Preprocessing Data"
   ]
  },
  {
   "cell_type": "code",
   "execution_count": 2,
   "metadata": {
    "collapsed": true
   },
   "outputs": [],
   "source": [
    "def get_mnist_data():\n",
    "    from keras.datasets import mnist\n",
    "    from keras.utils import np_utils\n",
    "    (X_train, y_train), (X_test, y_test) = mnist.load_data()\n",
    "    X_train = X_train.reshape(X_train.shape[0], 1, X_train.shape[1], X_train.shape[2])\n",
    "    y_train = y_train.reshape(y_train.shape[0], 1)\n",
    "    X_test = X_test.reshape(X_test.shape[0], 1, X_test.shape[1], X_test.shape[2])\n",
    "    y_test = y_test.reshape(y_test.shape[0], 1)\n",
    "    \n",
    "    y_train = np_utils.to_categorical(y_train)\n",
    "    y_test  = np_utils.to_categorical(y_test)\n",
    "    \n",
    "    return X_train, y_train, X_test, y_test"
   ]
  },
  {
   "cell_type": "code",
   "execution_count": 3,
   "metadata": {
    "collapsed": false
   },
   "outputs": [],
   "source": [
    "X_train, y_train, X_test, y_test = get_mnist_data()"
   ]
  },
  {
   "cell_type": "code",
   "execution_count": 4,
   "metadata": {
    "collapsed": false
   },
   "outputs": [
    {
     "data": {
      "text/plain": [
       "((60000, 1, 28, 28), (60000, 10), (10000, 1, 28, 28), (10000, 10))"
      ]
     },
     "execution_count": 4,
     "metadata": {},
     "output_type": "execute_result"
    }
   ],
   "source": [
    "X_train.shape, y_train.shape, X_test.shape, y_test.shape"
   ]
  },
  {
   "cell_type": "code",
   "execution_count": 5,
   "metadata": {
    "collapsed": false
   },
   "outputs": [],
   "source": [
    "X_mean = X_train.mean().astype(np.float32)"
   ]
  },
  {
   "cell_type": "code",
   "execution_count": 6,
   "metadata": {
    "collapsed": false
   },
   "outputs": [],
   "source": [
    "X_std = X_train.std().astype(np.float32)"
   ]
  },
  {
   "cell_type": "code",
   "execution_count": 7,
   "metadata": {
    "collapsed": true
   },
   "outputs": [],
   "source": [
    "def normalizer(x):\n",
    "    return (x - X_mean) / X_std"
   ]
  },
  {
   "cell_type": "markdown",
   "metadata": {},
   "source": [
    "## Building the model"
   ]
  },
  {
   "cell_type": "code",
   "execution_count": 8,
   "metadata": {
    "collapsed": true
   },
   "outputs": [],
   "source": [
    "from keras.layers import Convolution2D, Dense, Flatten, Lambda, Dropout\n",
    "from keras.models import Sequential\n",
    "from keras.optimizers import Adam"
   ]
  },
  {
   "cell_type": "markdown",
   "metadata": {},
   "source": [
    "### Neural Networks Model"
   ]
  },
  {
   "cell_type": "code",
   "execution_count": 20,
   "metadata": {
    "collapsed": true
   },
   "outputs": [],
   "source": [
    "nb_epoch = 5"
   ]
  },
  {
   "cell_type": "code",
   "execution_count": 14,
   "metadata": {
    "collapsed": true
   },
   "outputs": [],
   "source": [
    "model_1 = Sequential()\n",
    "model_1.add(Lambda(normalizer, input_shape=(1, 28, 28)))\n",
    "model_1.add(Flatten())\n",
    "model_1.add(Dense(512, activation='softmax'))\n",
    "model_1.add(Dense(10, activation='softmax'))"
   ]
  },
  {
   "cell_type": "code",
   "execution_count": 15,
   "metadata": {
    "collapsed": true
   },
   "outputs": [],
   "source": [
    "model_1.compile(Adam(), loss='categorical_crossentropy', metrics=['accuracy'] )"
   ]
  },
  {
   "cell_type": "code",
   "execution_count": 25,
   "metadata": {
    "collapsed": false
   },
   "outputs": [
    {
     "name": "stdout",
     "output_type": "stream",
     "text": [
      "Train on 60000 samples, validate on 10000 samples\n",
      "Epoch 1/5\n",
      "60000/60000 [==============================] - 2s - loss: 0.2375 - acc: 0.9331 - val_loss: 0.2949 - val_acc: 0.9257\n",
      "Epoch 2/5\n",
      "60000/60000 [==============================] - 2s - loss: 0.2378 - acc: 0.9332 - val_loss: 0.3009 - val_acc: 0.9213\n",
      "Epoch 3/5\n",
      "60000/60000 [==============================] - 2s - loss: 0.2384 - acc: 0.9335 - val_loss: 0.2959 - val_acc: 0.9224\n",
      "Epoch 4/5\n",
      "60000/60000 [==============================] - 2s - loss: 0.2370 - acc: 0.9342 - val_loss: 0.2972 - val_acc: 0.9252\n",
      "Epoch 5/5\n",
      "60000/60000 [==============================] - 2s - loss: 0.2385 - acc: 0.9335 - val_loss: 0.3060 - val_acc: 0.9212\n"
     ]
    },
    {
     "data": {
      "text/plain": [
       "<keras.callbacks.History at 0x7f936ac77110>"
      ]
     },
     "execution_count": 25,
     "metadata": {},
     "output_type": "execute_result"
    }
   ],
   "source": [
    "model_1.fit(X_train, y_train,batch_size=64, validation_data=(X_test, y_test), nb_epoch=nb_epoch)"
   ]
  },
  {
   "cell_type": "markdown",
   "metadata": {
    "collapsed": true
   },
   "source": [
    "### Is learning rate optimal?\n",
    "\n",
    "default in Adam is 0.001"
   ]
  },
  {
   "cell_type": "code",
   "execution_count": 19,
   "metadata": {
    "collapsed": true
   },
   "outputs": [],
   "source": [
    "model_1.optimizer.lr = 0.1"
   ]
  },
  {
   "cell_type": "code",
   "execution_count": 23,
   "metadata": {
    "collapsed": false
   },
   "outputs": [
    {
     "name": "stdout",
     "output_type": "stream",
     "text": [
      "Train on 60000 samples, validate on 10000 samples\n",
      "Epoch 1/10\n",
      "60000/60000 [==============================] - 2s - loss: 0.2359 - acc: 0.9344 - val_loss: 0.2952 - val_acc: 0.9233\n",
      "Epoch 2/10\n",
      "60000/60000 [==============================] - 2s - loss: 0.2368 - acc: 0.9344 - val_loss: 0.2924 - val_acc: 0.9250\n",
      "Epoch 3/10\n",
      "60000/60000 [==============================] - 2s - loss: 0.2393 - acc: 0.9338 - val_loss: 0.2980 - val_acc: 0.9241\n",
      "Epoch 4/10\n",
      "60000/60000 [==============================] - 2s - loss: 0.2384 - acc: 0.9338 - val_loss: 0.3030 - val_acc: 0.9186\n",
      "Epoch 5/10\n",
      "60000/60000 [==============================] - 2s - loss: 0.2390 - acc: 0.9328 - val_loss: 0.3011 - val_acc: 0.9220\n",
      "Epoch 6/10\n",
      "60000/60000 [==============================] - 2s - loss: 0.2389 - acc: 0.9330 - val_loss: 0.2949 - val_acc: 0.9248\n",
      "Epoch 7/10\n",
      "60000/60000 [==============================] - 2s - loss: 0.2376 - acc: 0.9336 - val_loss: 0.2973 - val_acc: 0.9207\n",
      "Epoch 8/10\n",
      "60000/60000 [==============================] - 2s - loss: 0.2393 - acc: 0.9334 - val_loss: 0.3038 - val_acc: 0.9203\n",
      "Epoch 9/10\n",
      "60000/60000 [==============================] - 2s - loss: 0.2385 - acc: 0.9343 - val_loss: 0.2974 - val_acc: 0.9205\n",
      "Epoch 10/10\n",
      "60000/60000 [==============================] - 2s - loss: 0.2381 - acc: 0.9333 - val_loss: 0.3058 - val_acc: 0.9197\n"
     ]
    },
    {
     "data": {
      "text/plain": [
       "<keras.callbacks.History at 0x7f936abbf150>"
      ]
     },
     "execution_count": 23,
     "metadata": {},
     "output_type": "execute_result"
    }
   ],
   "source": [
    "model_1.fit(X_train, y_train, batch_size=64, validation_data=(X_test, y_test))"
   ]
  },
  {
   "cell_type": "markdown",
   "metadata": {},
   "source": [
    "** Interesting **\n",
    "\n",
    "Appears like batch size also affects the performance. Why is this? Look into Adam more. If it is similar to SGD, this makes sense.\n",
    "\n",
    "Effects of batch_size:\n",
    "* Higher ==> less time to train\n",
    "* Seems to affect the performance as well. So, you could consider this as a hyperparameter as well. "
   ]
  },
  {
   "cell_type": "code",
   "execution_count": 26,
   "metadata": {
    "collapsed": true
   },
   "outputs": [],
   "source": [
    "model_1.optimizer.lr = 0.0001"
   ]
  },
  {
   "cell_type": "code",
   "execution_count": 28,
   "metadata": {
    "collapsed": false
   },
   "outputs": [
    {
     "name": "stdout",
     "output_type": "stream",
     "text": [
      "Train on 60000 samples, validate on 10000 samples\n",
      "Epoch 1/20\n",
      "60000/60000 [==============================] - 2s - loss: 0.2359 - acc: 0.9338 - val_loss: 0.3044 - val_acc: 0.9207\n",
      "Epoch 2/20\n",
      "60000/60000 [==============================] - 2s - loss: 0.2364 - acc: 0.9337 - val_loss: 0.3037 - val_acc: 0.9221\n",
      "Epoch 3/20\n",
      "60000/60000 [==============================] - 2s - loss: 0.2361 - acc: 0.9328 - val_loss: 0.3002 - val_acc: 0.9236\n",
      "Epoch 4/20\n",
      "60000/60000 [==============================] - 2s - loss: 0.2358 - acc: 0.9342 - val_loss: 0.3106 - val_acc: 0.9209\n",
      "Epoch 5/20\n",
      "60000/60000 [==============================] - 2s - loss: 0.2367 - acc: 0.9341 - val_loss: 0.3038 - val_acc: 0.9198\n",
      "Epoch 6/20\n",
      "60000/60000 [==============================] - 2s - loss: 0.2357 - acc: 0.9339 - val_loss: 0.2996 - val_acc: 0.9237\n",
      "Epoch 7/20\n",
      "60000/60000 [==============================] - 2s - loss: 0.2362 - acc: 0.9336 - val_loss: 0.3017 - val_acc: 0.9240\n",
      "Epoch 8/20\n",
      "60000/60000 [==============================] - 2s - loss: 0.2360 - acc: 0.9333 - val_loss: 0.3016 - val_acc: 0.9264\n",
      "Epoch 9/20\n",
      "60000/60000 [==============================] - 2s - loss: 0.2358 - acc: 0.9338 - val_loss: 0.3054 - val_acc: 0.9211\n",
      "Epoch 10/20\n",
      "60000/60000 [==============================] - 2s - loss: 0.2361 - acc: 0.9334 - val_loss: 0.3062 - val_acc: 0.9218\n",
      "Epoch 11/20\n",
      "60000/60000 [==============================] - 2s - loss: 0.2354 - acc: 0.9337 - val_loss: 0.3113 - val_acc: 0.9182\n",
      "Epoch 12/20\n",
      "60000/60000 [==============================] - 2s - loss: 0.2347 - acc: 0.9336 - val_loss: 0.3135 - val_acc: 0.9209\n",
      "Epoch 13/20\n",
      "60000/60000 [==============================] - 2s - loss: 0.2353 - acc: 0.9337 - val_loss: 0.3120 - val_acc: 0.9190\n",
      "Epoch 14/20\n",
      "60000/60000 [==============================] - 2s - loss: 0.2354 - acc: 0.9338 - val_loss: 0.3117 - val_acc: 0.9203\n",
      "Epoch 15/20\n",
      "60000/60000 [==============================] - 2s - loss: 0.2354 - acc: 0.9338 - val_loss: 0.3128 - val_acc: 0.9202\n",
      "Epoch 16/20\n",
      "60000/60000 [==============================] - 2s - loss: 0.2351 - acc: 0.9340 - val_loss: 0.3156 - val_acc: 0.9203\n",
      "Epoch 17/20\n",
      "60000/60000 [==============================] - 2s - loss: 0.2346 - acc: 0.9347 - val_loss: 0.3021 - val_acc: 0.9209\n",
      "Epoch 18/20\n",
      "60000/60000 [==============================] - 2s - loss: 0.2350 - acc: 0.9343 - val_loss: 0.3034 - val_acc: 0.9215\n",
      "Epoch 19/20\n",
      "60000/60000 [==============================] - 2s - loss: 0.2346 - acc: 0.9341 - val_loss: 0.3122 - val_acc: 0.9210\n",
      "Epoch 20/20\n",
      "60000/60000 [==============================] - 2s - loss: 0.2351 - acc: 0.9333 - val_loss: 0.3009 - val_acc: 0.9241\n"
     ]
    },
    {
     "data": {
      "text/plain": [
       "<keras.callbacks.History at 0x7f936b50ded0>"
      ]
     },
     "execution_count": 28,
     "metadata": {},
     "output_type": "execute_result"
    }
   ],
   "source": [
    "model_1.fit(X_train, y_train, batch_size=64, validation_data=(X_test, y_test), nb_epoch=20)"
   ]
  },
  {
   "cell_type": "markdown",
   "metadata": {},
   "source": [
    "### Learning Rate and its usage\n",
    "\n",
    "We could try the following\n",
    "* Start with a relatively high learning rate for a few epochs\n",
    "* Reduce it and continue for a few more epochs\n",
    "* Reduce it further and continue for more epochs(make sure that it doesn't go so far that it overfits)"
   ]
  },
  {
   "cell_type": "code",
   "execution_count": 39,
   "metadata": {
    "collapsed": true
   },
   "outputs": [],
   "source": [
    "# Let's put this in action and do it right this time!\n",
    "model_1 = Sequential()\n",
    "model_1.add(Lambda(normalizer, input_shape=(1, 28, 28)))\n",
    "model_1.add(Flatten())\n",
    "model_1.add(Dense(512, activation='softmax'))\n",
    "model_1.add(Dense(10, activation='softmax'))\n",
    "model_1.compile(Adam(), loss='categorical_crossentropy', metrics=['accuracy'] )"
   ]
  },
  {
   "cell_type": "code",
   "execution_count": 40,
   "metadata": {
    "collapsed": true
   },
   "outputs": [],
   "source": [
    "model_1.optimizer.lr = 0.1"
   ]
  },
  {
   "cell_type": "code",
   "execution_count": 41,
   "metadata": {
    "collapsed": false
   },
   "outputs": [
    {
     "name": "stdout",
     "output_type": "stream",
     "text": [
      "Train on 60000 samples, validate on 10000 samples\n",
      "Epoch 1/5\n",
      "60000/60000 [==============================] - 4s - loss: 1.1138 - acc: 0.6543 - val_loss: 0.9152 - val_acc: 0.7103\n",
      "Epoch 2/5\n",
      "60000/60000 [==============================] - 4s - loss: 0.8796 - acc: 0.7281 - val_loss: 0.9235 - val_acc: 0.6600\n",
      "Epoch 3/5\n",
      "60000/60000 [==============================] - 4s - loss: 0.8426 - acc: 0.7354 - val_loss: 0.7523 - val_acc: 0.7699\n",
      "Epoch 4/5\n",
      "60000/60000 [==============================] - 4s - loss: 0.8255 - acc: 0.7453 - val_loss: 0.7188 - val_acc: 0.7746\n",
      "Epoch 5/5\n",
      "60000/60000 [==============================] - 4s - loss: 0.8032 - acc: 0.7579 - val_loss: 0.8076 - val_acc: 0.7681\n"
     ]
    },
    {
     "data": {
      "text/plain": [
       "<keras.callbacks.History at 0x7f9368ebd2d0>"
      ]
     },
     "execution_count": 41,
     "metadata": {},
     "output_type": "execute_result"
    }
   ],
   "source": [
    "model_1.fit(X_train, y_train, batch_size=64, validation_data=(X_test, y_test), nb_epoch=5)"
   ]
  },
  {
   "cell_type": "markdown",
   "metadata": {},
   "source": [
    "Hmmm, let's try more epochs with same learning rate and see where it gets us"
   ]
  },
  {
   "cell_type": "code",
   "execution_count": 42,
   "metadata": {
    "collapsed": false
   },
   "outputs": [
    {
     "name": "stdout",
     "output_type": "stream",
     "text": [
      "Train on 60000 samples, validate on 10000 samples\n",
      "Epoch 1/8\n",
      "60000/60000 [==============================] - 4s - loss: 0.7954 - acc: 0.7589 - val_loss: 0.8208 - val_acc: 0.7361\n",
      "Epoch 2/8\n",
      "60000/60000 [==============================] - 4s - loss: 0.8315 - acc: 0.7377 - val_loss: 0.8279 - val_acc: 0.7601\n",
      "Epoch 3/8\n",
      "60000/60000 [==============================] - 4s - loss: 0.8101 - acc: 0.7524 - val_loss: 0.9932 - val_acc: 0.6271\n",
      "Epoch 4/8\n",
      "60000/60000 [==============================] - 4s - loss: 0.7839 - acc: 0.7536 - val_loss: 0.7182 - val_acc: 0.7758\n",
      "Epoch 5/8\n",
      "60000/60000 [==============================] - 4s - loss: 0.7560 - acc: 0.7674 - val_loss: 0.7024 - val_acc: 0.7941\n",
      "Epoch 6/8\n",
      "60000/60000 [==============================] - 4s - loss: 0.7387 - acc: 0.7756 - val_loss: 0.7308 - val_acc: 0.7848\n",
      "Epoch 7/8\n",
      "60000/60000 [==============================] - 4s - loss: 0.7494 - acc: 0.7664 - val_loss: 0.8653 - val_acc: 0.7374\n",
      "Epoch 8/8\n",
      "60000/60000 [==============================] - 4s - loss: 0.7231 - acc: 0.7793 - val_loss: 0.7397 - val_acc: 0.7717\n"
     ]
    },
    {
     "data": {
      "text/plain": [
       "<keras.callbacks.History at 0x7f9368ebda90>"
      ]
     },
     "execution_count": 42,
     "metadata": {},
     "output_type": "execute_result"
    }
   ],
   "source": [
    "model_1.fit(X_train, y_train, batch_size=64, validation_data=(X_test, y_test), nb_epoch=8)"
   ]
  },
  {
   "cell_type": "markdown",
   "metadata": {},
   "source": [
    "Clearly, the learning rate is too much and it's not moving from a rut that it had ended up at"
   ]
  },
  {
   "cell_type": "code",
   "execution_count": 43,
   "metadata": {
    "collapsed": true
   },
   "outputs": [],
   "source": [
    "model_1.optimizer.lr = 0.001"
   ]
  },
  {
   "cell_type": "code",
   "execution_count": 44,
   "metadata": {
    "collapsed": false
   },
   "outputs": [
    {
     "name": "stdout",
     "output_type": "stream",
     "text": [
      "Train on 60000 samples, validate on 10000 samples\n",
      "Epoch 1/8\n",
      "60000/60000 [==============================] - 4s - loss: 0.7346 - acc: 0.7761 - val_loss: 0.7364 - val_acc: 0.7667\n",
      "Epoch 2/8\n",
      "60000/60000 [==============================] - 4s - loss: 0.7351 - acc: 0.7767 - val_loss: 0.7239 - val_acc: 0.7704\n",
      "Epoch 3/8\n",
      "60000/60000 [==============================] - 4s - loss: 0.7265 - acc: 0.7771 - val_loss: 0.7133 - val_acc: 0.7926\n",
      "Epoch 4/8\n",
      "60000/60000 [==============================] - 4s - loss: 0.7202 - acc: 0.7816 - val_loss: 0.6639 - val_acc: 0.8006\n",
      "Epoch 5/8\n",
      "60000/60000 [==============================] - 4s - loss: 0.6918 - acc: 0.7904 - val_loss: 0.6952 - val_acc: 0.7875\n",
      "Epoch 6/8\n",
      "60000/60000 [==============================] - 4s - loss: 0.7651 - acc: 0.7555 - val_loss: 0.8098 - val_acc: 0.7260\n",
      "Epoch 7/8\n",
      "60000/60000 [==============================] - 4s - loss: 0.7216 - acc: 0.7742 - val_loss: 0.6543 - val_acc: 0.7994\n",
      "Epoch 8/8\n",
      "60000/60000 [==============================] - 4s - loss: 0.6803 - acc: 0.7913 - val_loss: 0.6395 - val_acc: 0.8004\n"
     ]
    },
    {
     "data": {
      "text/plain": [
       "<keras.callbacks.History at 0x7f9369628fd0>"
      ]
     },
     "execution_count": 44,
     "metadata": {},
     "output_type": "execute_result"
    }
   ],
   "source": [
    "model_1.fit(X_train, y_train, batch_size=64, validation_data=(X_test, y_test), nb_epoch=8)"
   ]
  },
  {
   "cell_type": "code",
   "execution_count": 45,
   "metadata": {
    "collapsed": false
   },
   "outputs": [
    {
     "name": "stdout",
     "output_type": "stream",
     "text": [
      "Train on 60000 samples, validate on 10000 samples\n",
      "Epoch 1/5\n",
      "60000/60000 [==============================] - 4s - loss: 0.6931 - acc: 0.7927 - val_loss: 0.6651 - val_acc: 0.7925\n",
      "Epoch 2/5\n",
      "60000/60000 [==============================] - 4s - loss: 0.7213 - acc: 0.7792 - val_loss: 0.6948 - val_acc: 0.7833\n",
      "Epoch 3/5\n",
      "60000/60000 [==============================] - 4s - loss: 0.7358 - acc: 0.7741 - val_loss: 0.7469 - val_acc: 0.7698\n",
      "Epoch 4/5\n",
      "60000/60000 [==============================] - 4s - loss: 0.7124 - acc: 0.7815 - val_loss: 0.6747 - val_acc: 0.7905\n",
      "Epoch 5/5\n",
      "60000/60000 [==============================] - 4s - loss: 0.7139 - acc: 0.7762 - val_loss: 0.7484 - val_acc: 0.7765\n"
     ]
    },
    {
     "data": {
      "text/plain": [
       "<keras.callbacks.History at 0x7f9368ebdc10>"
      ]
     },
     "execution_count": 45,
     "metadata": {},
     "output_type": "execute_result"
    }
   ],
   "source": [
    "model_1.fit(X_train, y_train, batch_size=64, validation_data=(X_test, y_test), nb_epoch=5)"
   ]
  },
  {
   "cell_type": "code",
   "execution_count": 46,
   "metadata": {
    "collapsed": true
   },
   "outputs": [],
   "source": [
    "model_1.optimizer.lr = 0.0001"
   ]
  },
  {
   "cell_type": "code",
   "execution_count": 47,
   "metadata": {
    "collapsed": false
   },
   "outputs": [
    {
     "name": "stdout",
     "output_type": "stream",
     "text": [
      "Train on 60000 samples, validate on 10000 samples\n",
      "Epoch 1/15\n",
      "60000/60000 [==============================] - 4s - loss: 0.7012 - acc: 0.7798 - val_loss: 0.6365 - val_acc: 0.7980\n",
      "Epoch 2/15\n",
      "60000/60000 [==============================] - 4s - loss: 0.6700 - acc: 0.7938 - val_loss: 0.6795 - val_acc: 0.7966\n",
      "Epoch 3/15\n",
      "60000/60000 [==============================] - 4s - loss: 0.6745 - acc: 0.7950 - val_loss: 0.6026 - val_acc: 0.8094\n",
      "Epoch 4/15\n",
      "60000/60000 [==============================] - 4s - loss: 0.6690 - acc: 0.7952 - val_loss: 0.6505 - val_acc: 0.7922\n",
      "Epoch 5/15\n",
      "60000/60000 [==============================] - 4s - loss: 0.6685 - acc: 0.7923 - val_loss: 0.6738 - val_acc: 0.7788\n",
      "Epoch 6/15\n",
      "60000/60000 [==============================] - 4s - loss: 0.6982 - acc: 0.7869 - val_loss: 0.6788 - val_acc: 0.7870\n",
      "Epoch 7/15\n",
      "60000/60000 [==============================] - 4s - loss: 0.6867 - acc: 0.7865 - val_loss: 0.6647 - val_acc: 0.7878\n",
      "Epoch 8/15\n",
      "60000/60000 [==============================] - 4s - loss: 0.7152 - acc: 0.7802 - val_loss: 0.6260 - val_acc: 0.8120\n",
      "Epoch 9/15\n",
      "60000/60000 [==============================] - 4s - loss: 0.7365 - acc: 0.7772 - val_loss: 0.7183 - val_acc: 0.7632\n",
      "Epoch 10/15\n",
      "60000/60000 [==============================] - 4s - loss: 0.6788 - acc: 0.7902 - val_loss: 0.6174 - val_acc: 0.8053\n",
      "Epoch 11/15\n",
      "60000/60000 [==============================] - 4s - loss: 0.6598 - acc: 0.7989 - val_loss: 0.6511 - val_acc: 0.8045\n",
      "Epoch 12/15\n",
      "60000/60000 [==============================] - 4s - loss: 0.6770 - acc: 0.7962 - val_loss: 0.7019 - val_acc: 0.7862\n",
      "Epoch 13/15\n",
      "60000/60000 [==============================] - 4s - loss: 0.7039 - acc: 0.7804 - val_loss: 0.6494 - val_acc: 0.7954\n",
      "Epoch 14/15\n",
      "60000/60000 [==============================] - 4s - loss: 0.7265 - acc: 0.7745 - val_loss: 0.7775 - val_acc: 0.7677\n",
      "Epoch 15/15\n",
      "60000/60000 [==============================] - 4s - loss: 0.6664 - acc: 0.7978 - val_loss: 0.6077 - val_acc: 0.8114\n"
     ]
    },
    {
     "data": {
      "text/plain": [
       "<keras.callbacks.History at 0x7f9368ebd6d0>"
      ]
     },
     "execution_count": 47,
     "metadata": {},
     "output_type": "execute_result"
    }
   ],
   "source": [
    "model_1.fit(X_train, y_train, batch_size=64, validation_data=(X_test, y_test), nb_epoch=15)"
   ]
  },
  {
   "cell_type": "code",
   "execution_count": 48,
   "metadata": {
    "collapsed": true
   },
   "outputs": [],
   "source": [
    "model_1.optimizer.lr = 1"
   ]
  },
  {
   "cell_type": "code",
   "execution_count": 49,
   "metadata": {
    "collapsed": false
   },
   "outputs": [
    {
     "name": "stdout",
     "output_type": "stream",
     "text": [
      "Train on 60000 samples, validate on 10000 samples\n",
      "Epoch 1/5\n",
      "60000/60000 [==============================] - 4s - loss: 0.6653 - acc: 0.7962 - val_loss: 0.6289 - val_acc: 0.7976\n",
      "Epoch 2/5\n",
      "60000/60000 [==============================] - 4s - loss: 0.6571 - acc: 0.7983 - val_loss: 0.6479 - val_acc: 0.7945\n",
      "Epoch 3/5\n",
      "60000/60000 [==============================] - 4s - loss: 0.6578 - acc: 0.7967 - val_loss: 0.6169 - val_acc: 0.8040\n",
      "Epoch 4/5\n",
      "60000/60000 [==============================] - 4s - loss: 0.6512 - acc: 0.8051 - val_loss: 0.6108 - val_acc: 0.8066\n",
      "Epoch 5/5\n",
      "60000/60000 [==============================] - 4s - loss: 0.6520 - acc: 0.8058 - val_loss: 0.6664 - val_acc: 0.7875\n"
     ]
    },
    {
     "data": {
      "text/plain": [
       "<keras.callbacks.History at 0x7f9368ebda10>"
      ]
     },
     "execution_count": 49,
     "metadata": {},
     "output_type": "execute_result"
    }
   ],
   "source": [
    "model_1.fit(X_train, y_train, batch_size=64, validation_data=(X_test, y_test), nb_epoch=5)"
   ]
  },
  {
   "cell_type": "code",
   "execution_count": 50,
   "metadata": {
    "collapsed": false
   },
   "outputs": [
    {
     "name": "stdout",
     "output_type": "stream",
     "text": [
      "Train on 60000 samples, validate on 10000 samples\n",
      "Epoch 1/5\n",
      "60000/60000 [==============================] - 4s - loss: 0.6994 - acc: 0.7982 - val_loss: 0.6625 - val_acc: 0.8036\n",
      "Epoch 2/5\n",
      "60000/60000 [==============================] - 4s - loss: 0.6607 - acc: 0.8021 - val_loss: 0.6020 - val_acc: 0.8186\n",
      "Epoch 3/5\n",
      "60000/60000 [==============================] - 4s - loss: 0.6419 - acc: 0.8057 - val_loss: 0.5932 - val_acc: 0.8133\n",
      "Epoch 4/5\n",
      "60000/60000 [==============================] - 4s - loss: 0.6497 - acc: 0.8010 - val_loss: 0.6344 - val_acc: 0.8093\n",
      "Epoch 5/5\n",
      "60000/60000 [==============================] - 4s - loss: 0.7069 - acc: 0.7767 - val_loss: 0.6859 - val_acc: 0.7690\n"
     ]
    },
    {
     "data": {
      "text/plain": [
       "<keras.callbacks.History at 0x7f9368ebdf50>"
      ]
     },
     "execution_count": 50,
     "metadata": {},
     "output_type": "execute_result"
    }
   ],
   "source": [
    "model_1.fit(X_train, y_train, batch_size=64, validation_data=(X_test, y_test), nb_epoch=5)"
   ]
  },
  {
   "cell_type": "markdown",
   "metadata": {},
   "source": [
    "### Nope. We seem to have reached a dead end. A local minima perhaps?"
   ]
  },
  {
   "cell_type": "markdown",
   "metadata": {},
   "source": [
    "Let's start over!"
   ]
  },
  {
   "cell_type": "code",
   "execution_count": 51,
   "metadata": {
    "collapsed": true
   },
   "outputs": [],
   "source": [
    "model_1 = Sequential()\n",
    "model_1.add(Lambda(normalizer, input_shape=(1, 28, 28)))\n",
    "model_1.add(Flatten())\n",
    "model_1.add(Dense(512, activation='softmax'))\n",
    "model_1.add(Dense(10, activation='softmax'))\n",
    "model_1.compile(Adam(), loss='categorical_crossentropy', metrics=['accuracy'] )"
   ]
  },
  {
   "cell_type": "code",
   "execution_count": 52,
   "metadata": {
    "collapsed": false
   },
   "outputs": [
    {
     "name": "stdout",
     "output_type": "stream",
     "text": [
      "Train on 60000 samples, validate on 10000 samples\n",
      "Epoch 1/5\n",
      "60000/60000 [==============================] - 4s - loss: 1.5699 - acc: 0.8225 - val_loss: 1.0521 - val_acc: 0.8528\n",
      "Epoch 2/5\n",
      "60000/60000 [==============================] - 4s - loss: 0.8081 - acc: 0.8509 - val_loss: 0.6336 - val_acc: 0.8466\n",
      "Epoch 3/5\n",
      "60000/60000 [==============================] - 4s - loss: 0.5496 - acc: 0.8542 - val_loss: 0.4904 - val_acc: 0.8549\n",
      "Epoch 4/5\n",
      "60000/60000 [==============================] - 4s - loss: 0.4544 - acc: 0.8597 - val_loss: 0.4349 - val_acc: 0.8546\n",
      "Epoch 5/5\n",
      "60000/60000 [==============================] - 4s - loss: 0.4090 - acc: 0.8645 - val_loss: 0.4268 - val_acc: 0.8599\n"
     ]
    },
    {
     "data": {
      "text/plain": [
       "<keras.callbacks.History at 0x7f936848ccd0>"
      ]
     },
     "execution_count": 52,
     "metadata": {},
     "output_type": "execute_result"
    }
   ],
   "source": [
    "# default lr\n",
    "model_1.fit(X_train, y_train, batch_size=64, validation_data=(X_test, y_test), nb_epoch=5)"
   ]
  },
  {
   "cell_type": "markdown",
   "metadata": {},
   "source": [
    "already doing much better\n",
    "\n",
    "Moral of the story - ** Learning rate matters. If shits going wrong initially itself, check lr maybe? **"
   ]
  },
  {
   "cell_type": "code",
   "execution_count": 53,
   "metadata": {
    "collapsed": false
   },
   "outputs": [
    {
     "name": "stdout",
     "output_type": "stream",
     "text": [
      "Train on 60000 samples, validate on 10000 samples\n",
      "Epoch 1/5\n",
      "60000/60000 [==============================] - 4s - loss: 0.3831 - acc: 0.8712 - val_loss: 0.4044 - val_acc: 0.8714\n",
      "Epoch 2/5\n",
      "60000/60000 [==============================] - 4s - loss: 0.3649 - acc: 0.8761 - val_loss: 0.3832 - val_acc: 0.8693\n",
      "Epoch 3/5\n",
      "60000/60000 [==============================] - 4s - loss: 0.3503 - acc: 0.8847 - val_loss: 0.3749 - val_acc: 0.8798\n",
      "Epoch 4/5\n",
      "60000/60000 [==============================] - 4s - loss: 0.3333 - acc: 0.8990 - val_loss: 0.3583 - val_acc: 0.8879\n",
      "Epoch 5/5\n",
      "60000/60000 [==============================] - 4s - loss: 0.3112 - acc: 0.9128 - val_loss: 0.3585 - val_acc: 0.8933\n"
     ]
    },
    {
     "data": {
      "text/plain": [
       "<keras.callbacks.History at 0x7f9368ebd610>"
      ]
     },
     "execution_count": 53,
     "metadata": {},
     "output_type": "execute_result"
    }
   ],
   "source": [
    "model_1.fit(X_train, y_train, batch_size=64, validation_data=(X_test, y_test), nb_epoch=5)"
   ]
  },
  {
   "cell_type": "code",
   "execution_count": 54,
   "metadata": {
    "collapsed": false
   },
   "outputs": [
    {
     "name": "stdout",
     "output_type": "stream",
     "text": [
      "Train on 60000 samples, validate on 10000 samples\n",
      "Epoch 1/5\n",
      "60000/60000 [==============================] - 4s - loss: 0.2893 - acc: 0.9224 - val_loss: 0.3185 - val_acc: 0.9155\n",
      "Epoch 2/5\n",
      "60000/60000 [==============================] - 4s - loss: 0.2751 - acc: 0.9266 - val_loss: 0.3109 - val_acc: 0.9193\n",
      "Epoch 3/5\n",
      "60000/60000 [==============================] - 4s - loss: 0.2580 - acc: 0.9315 - val_loss: 0.3257 - val_acc: 0.9086\n",
      "Epoch 4/5\n",
      "60000/60000 [==============================] - 4s - loss: 0.2490 - acc: 0.9329 - val_loss: 0.2897 - val_acc: 0.9238\n",
      "Epoch 5/5\n",
      "60000/60000 [==============================] - 4s - loss: 0.2380 - acc: 0.9355 - val_loss: 0.2936 - val_acc: 0.9225\n"
     ]
    },
    {
     "data": {
      "text/plain": [
       "<keras.callbacks.History at 0x7f9368d09810>"
      ]
     },
     "execution_count": 54,
     "metadata": {},
     "output_type": "execute_result"
    }
   ],
   "source": [
    "model_1.fit(X_train, y_train, batch_size=64, validation_data=(X_test, y_test), nb_epoch=5)"
   ]
  },
  {
   "cell_type": "code",
   "execution_count": 55,
   "metadata": {
    "collapsed": false
   },
   "outputs": [
    {
     "name": "stdout",
     "output_type": "stream",
     "text": [
      "Train on 60000 samples, validate on 10000 samples\n",
      "Epoch 1/5\n",
      "60000/60000 [==============================] - 4s - loss: 0.2231 - acc: 0.9413 - val_loss: 0.2589 - val_acc: 0.9349\n",
      "Epoch 2/5\n",
      "60000/60000 [==============================] - 4s - loss: 0.2044 - acc: 0.9466 - val_loss: 0.2482 - val_acc: 0.9349\n",
      "Epoch 3/5\n",
      "60000/60000 [==============================] - 4s - loss: 0.1905 - acc: 0.9500 - val_loss: 0.2387 - val_acc: 0.9401\n",
      "Epoch 4/5\n",
      "60000/60000 [==============================] - 4s - loss: 0.1808 - acc: 0.9524 - val_loss: 0.2287 - val_acc: 0.9402\n",
      "Epoch 5/5\n",
      "60000/60000 [==============================] - 4s - loss: 0.1774 - acc: 0.9525 - val_loss: 0.2273 - val_acc: 0.9376\n"
     ]
    },
    {
     "data": {
      "text/plain": [
       "<keras.callbacks.History at 0x7f936848ce50>"
      ]
     },
     "execution_count": 55,
     "metadata": {},
     "output_type": "execute_result"
    }
   ],
   "source": [
    "model_1.fit(X_train, y_train, batch_size=64, validation_data=(X_test, y_test), nb_epoch=5)"
   ]
  },
  {
   "cell_type": "code",
   "execution_count": 56,
   "metadata": {
    "collapsed": false
   },
   "outputs": [
    {
     "name": "stdout",
     "output_type": "stream",
     "text": [
      "Train on 60000 samples, validate on 10000 samples\n",
      "Epoch 1/5\n",
      "60000/60000 [==============================] - 4s - loss: 0.1712 - acc: 0.9540 - val_loss: 0.2323 - val_acc: 0.9409\n",
      "Epoch 2/5\n",
      "60000/60000 [==============================] - 4s - loss: 0.1662 - acc: 0.9553 - val_loss: 0.2302 - val_acc: 0.9406\n",
      "Epoch 3/5\n",
      "60000/60000 [==============================] - 4s - loss: 0.1612 - acc: 0.9567 - val_loss: 0.2249 - val_acc: 0.9437\n",
      "Epoch 4/5\n",
      "60000/60000 [==============================] - 4s - loss: 0.1576 - acc: 0.9581 - val_loss: 0.2298 - val_acc: 0.9417\n",
      "Epoch 5/5\n",
      "60000/60000 [==============================] - 4s - loss: 0.1565 - acc: 0.9572 - val_loss: 0.2228 - val_acc: 0.9443\n"
     ]
    },
    {
     "data": {
      "text/plain": [
       "<keras.callbacks.History at 0x7f9368434210>"
      ]
     },
     "execution_count": 56,
     "metadata": {},
     "output_type": "execute_result"
    }
   ],
   "source": [
    "model_1.fit(X_train, y_train, batch_size=64, validation_data=(X_test, y_test), nb_epoch=5)"
   ]
  },
  {
   "cell_type": "code",
   "execution_count": 57,
   "metadata": {
    "collapsed": false
   },
   "outputs": [
    {
     "name": "stdout",
     "output_type": "stream",
     "text": [
      "Train on 60000 samples, validate on 10000 samples\n",
      "Epoch 1/5\n",
      "60000/60000 [==============================] - 4s - loss: 0.1495 - acc: 0.9597 - val_loss: 0.2308 - val_acc: 0.9458\n",
      "Epoch 2/5\n",
      "60000/60000 [==============================] - 4s - loss: 0.1475 - acc: 0.9603 - val_loss: 0.2287 - val_acc: 0.9449\n",
      "Epoch 3/5\n",
      "60000/60000 [==============================] - 4s - loss: 0.1460 - acc: 0.9609 - val_loss: 0.2322 - val_acc: 0.9437\n",
      "Epoch 4/5\n",
      "60000/60000 [==============================] - 4s - loss: 0.1416 - acc: 0.9624 - val_loss: 0.2267 - val_acc: 0.9459\n",
      "Epoch 5/5\n",
      "60000/60000 [==============================] - 4s - loss: 0.1405 - acc: 0.9629 - val_loss: 0.2170 - val_acc: 0.9470\n"
     ]
    },
    {
     "data": {
      "text/plain": [
       "<keras.callbacks.History at 0x7f93684344d0>"
      ]
     },
     "execution_count": 57,
     "metadata": {},
     "output_type": "execute_result"
    }
   ],
   "source": [
    "# Starting to overfit now. But let's see where it goes\n",
    "model_1.fit(X_train, y_train, batch_size=64, validation_data=(X_test, y_test), nb_epoch=5)"
   ]
  },
  {
   "cell_type": "code",
   "execution_count": 58,
   "metadata": {
    "collapsed": false
   },
   "outputs": [
    {
     "name": "stdout",
     "output_type": "stream",
     "text": [
      "Train on 60000 samples, validate on 10000 samples\n",
      "Epoch 1/5\n",
      "60000/60000 [==============================] - 4s - loss: 0.1361 - acc: 0.9638 - val_loss: 0.2243 - val_acc: 0.9436\n",
      "Epoch 2/5\n",
      "60000/60000 [==============================] - 4s - loss: 0.1347 - acc: 0.9641 - val_loss: 0.2483 - val_acc: 0.9393\n",
      "Epoch 3/5\n",
      "60000/60000 [==============================] - 4s - loss: 0.1316 - acc: 0.9651 - val_loss: 0.2336 - val_acc: 0.9447\n",
      "Epoch 4/5\n",
      "60000/60000 [==============================] - 4s - loss: 0.1301 - acc: 0.9650 - val_loss: 0.2396 - val_acc: 0.9409\n",
      "Epoch 5/5\n",
      "60000/60000 [==============================] - 4s - loss: 0.1301 - acc: 0.9652 - val_loss: 0.2287 - val_acc: 0.9447\n"
     ]
    },
    {
     "data": {
      "text/plain": [
       "<keras.callbacks.History at 0x7f9369f32410>"
      ]
     },
     "execution_count": 58,
     "metadata": {},
     "output_type": "execute_result"
    }
   ],
   "source": [
    "model_1.fit(X_train, y_train, batch_size=64, validation_data=(X_test, y_test), nb_epoch=5)"
   ]
  },
  {
   "cell_type": "code",
   "execution_count": 59,
   "metadata": {
    "collapsed": false
   },
   "outputs": [
    {
     "name": "stdout",
     "output_type": "stream",
     "text": [
      "Train on 60000 samples, validate on 10000 samples\n",
      "Epoch 1/5\n",
      "60000/60000 [==============================] - 4s - loss: 0.1250 - acc: 0.9658 - val_loss: 0.2269 - val_acc: 0.9477\n",
      "Epoch 2/5\n",
      "60000/60000 [==============================] - 4s - loss: 0.1233 - acc: 0.9667 - val_loss: 0.2198 - val_acc: 0.9478\n",
      "Epoch 3/5\n",
      "60000/60000 [==============================] - 4s - loss: 0.1226 - acc: 0.9670 - val_loss: 0.2294 - val_acc: 0.9450\n",
      "Epoch 4/5\n",
      "60000/60000 [==============================] - 4s - loss: 0.1211 - acc: 0.9681 - val_loss: 0.2205 - val_acc: 0.9480\n",
      "Epoch 5/5\n",
      "60000/60000 [==============================] - 4s - loss: 0.1194 - acc: 0.9680 - val_loss: 0.2214 - val_acc: 0.9458\n"
     ]
    },
    {
     "data": {
      "text/plain": [
       "<keras.callbacks.History at 0x7f9368d38410>"
      ]
     },
     "execution_count": 59,
     "metadata": {},
     "output_type": "execute_result"
    }
   ],
   "source": [
    "model_1.fit(X_train, y_train, batch_size=64, validation_data=(X_test, y_test), nb_epoch=5)"
   ]
  },
  {
   "cell_type": "markdown",
   "metadata": {},
   "source": [
    "## Seems to be overfitting the data\n",
    "\n",
    "**Question** \n",
    "\n",
    "How much difference in training and validation data is tolerable? How much is too much?"
   ]
  },
  {
   "cell_type": "code",
   "execution_count": 60,
   "metadata": {
    "collapsed": true
   },
   "outputs": [],
   "source": [
    "model_1.optimizer.lr = 0.0001"
   ]
  },
  {
   "cell_type": "code",
   "execution_count": 61,
   "metadata": {
    "collapsed": false
   },
   "outputs": [
    {
     "name": "stdout",
     "output_type": "stream",
     "text": [
      "Train on 60000 samples, validate on 10000 samples\n",
      "Epoch 1/10\n",
      "60000/60000 [==============================] - 4s - loss: 0.1182 - acc: 0.9686 - val_loss: 0.2274 - val_acc: 0.9466\n",
      "Epoch 2/10\n",
      "60000/60000 [==============================] - 4s - loss: 0.1156 - acc: 0.9691 - val_loss: 0.2204 - val_acc: 0.9480\n",
      "Epoch 3/10\n",
      "60000/60000 [==============================] - 4s - loss: 0.1132 - acc: 0.9702 - val_loss: 0.2254 - val_acc: 0.9481\n",
      "Epoch 4/10\n",
      "60000/60000 [==============================] - 4s - loss: 0.1139 - acc: 0.9697 - val_loss: 0.2246 - val_acc: 0.9480\n",
      "Epoch 5/10\n",
      "60000/60000 [==============================] - 4s - loss: 0.1112 - acc: 0.9699 - val_loss: 0.2201 - val_acc: 0.9478\n",
      "Epoch 6/10\n",
      "60000/60000 [==============================] - 4s - loss: 0.1105 - acc: 0.9705 - val_loss: 0.2189 - val_acc: 0.9477\n",
      "Epoch 7/10\n",
      "60000/60000 [==============================] - 4s - loss: 0.1072 - acc: 0.9710 - val_loss: 0.2337 - val_acc: 0.9459\n",
      "Epoch 8/10\n",
      "60000/60000 [==============================] - 4s - loss: 0.1095 - acc: 0.9703 - val_loss: 0.2327 - val_acc: 0.9463\n",
      "Epoch 9/10\n",
      "60000/60000 [==============================] - 4s - loss: 0.1063 - acc: 0.9717 - val_loss: 0.2307 - val_acc: 0.9485\n",
      "Epoch 10/10\n",
      "60000/60000 [==============================] - 4s - loss: 0.1072 - acc: 0.9710 - val_loss: 0.2261 - val_acc: 0.9481\n"
     ]
    },
    {
     "data": {
      "text/plain": [
       "<keras.callbacks.History at 0x7f936848cf10>"
      ]
     },
     "execution_count": 61,
     "metadata": {},
     "output_type": "execute_result"
    }
   ],
   "source": [
    "model_1.fit(X_train, y_train, batch_size=64, validation_data=(X_test, y_test), nb_epoch=10)"
   ]
  },
  {
   "cell_type": "code",
   "execution_count": 62,
   "metadata": {
    "collapsed": true
   },
   "outputs": [],
   "source": [
    "# .... yeah.. I think we are definitely overfitting now"
   ]
  },
  {
   "cell_type": "markdown",
   "metadata": {},
   "source": [
    "## Different (possibly, random) architechtures"
   ]
  },
  {
   "cell_type": "code",
   "execution_count": 63,
   "metadata": {
    "collapsed": true
   },
   "outputs": [],
   "source": [
    "model_2 = Sequential()\n",
    "model_2.add(Lambda(normalizer, input_shape=(1, 28, 28)))\n",
    "model_2.add(Flatten())\n",
    "model_2.add(Dense(512, activation='softmax'))\n",
    "model_2.add(Dense(256, activation='softmax'))\n",
    "model_2.add(Dense(10, activation='softmax'))\n",
    "model_2.compile(Adam(), loss='categorical_crossentropy', metrics=['accuracy'] )"
   ]
  },
  {
   "cell_type": "code",
   "execution_count": 64,
   "metadata": {
    "collapsed": false
   },
   "outputs": [
    {
     "name": "stdout",
     "output_type": "stream",
     "text": [
      "Train on 60000 samples, validate on 10000 samples\n",
      "Epoch 1/10\n",
      "60000/60000 [==============================] - 5s - loss: 2.0548 - acc: 0.6553 - val_loss: 1.5061 - val_acc: 0.9267\n",
      "Epoch 2/10\n",
      "60000/60000 [==============================] - 5s - loss: 0.9280 - acc: 0.9260 - val_loss: 0.5481 - val_acc: 0.9300\n",
      "Epoch 3/10\n",
      "60000/60000 [==============================] - 5s - loss: 0.4294 - acc: 0.9342 - val_loss: 0.3718 - val_acc: 0.9335\n",
      "Epoch 4/10\n",
      "60000/60000 [==============================] - 5s - loss: 0.3307 - acc: 0.9377 - val_loss: 0.3345 - val_acc: 0.9316\n",
      "Epoch 5/10\n",
      "60000/60000 [==============================] - 5s - loss: 0.2890 - acc: 0.9414 - val_loss: 0.2983 - val_acc: 0.9383\n",
      "Epoch 6/10\n",
      "60000/60000 [==============================] - 5s - loss: 0.2701 - acc: 0.9434 - val_loss: 0.2953 - val_acc: 0.9346\n",
      "Epoch 7/10\n",
      "60000/60000 [==============================] - 5s - loss: 0.2548 - acc: 0.9451 - val_loss: 0.2872 - val_acc: 0.9369\n",
      "Epoch 8/10\n",
      "60000/60000 [==============================] - 5s - loss: 0.2423 - acc: 0.9460 - val_loss: 0.2781 - val_acc: 0.9382\n",
      "Epoch 9/10\n",
      "60000/60000 [==============================] - 5s - loss: 0.2315 - acc: 0.9480 - val_loss: 0.2556 - val_acc: 0.9410\n",
      "Epoch 10/10\n",
      "60000/60000 [==============================] - 5s - loss: 0.2224 - acc: 0.9497 - val_loss: 0.2692 - val_acc: 0.9368\n"
     ]
    },
    {
     "data": {
      "text/plain": [
       "<keras.callbacks.History at 0x7f9367998cd0>"
      ]
     },
     "execution_count": 64,
     "metadata": {},
     "output_type": "execute_result"
    }
   ],
   "source": [
    "model_2.fit(X_train, y_train, batch_size=64, validation_data=(X_test, y_test), nb_epoch=10)"
   ]
  },
  {
   "cell_type": "code",
   "execution_count": 66,
   "metadata": {
    "collapsed": false
   },
   "outputs": [
    {
     "name": "stdout",
     "output_type": "stream",
     "text": [
      "Train on 60000 samples, validate on 10000 samples\n",
      "Epoch 1/5\n",
      "60000/60000 [==============================] - 5s - loss: 0.2143 - acc: 0.9509 - val_loss: 0.2537 - val_acc: 0.9400\n",
      "Epoch 2/5\n",
      "60000/60000 [==============================] - 5s - loss: 0.2056 - acc: 0.9522 - val_loss: 0.2440 - val_acc: 0.9447\n",
      "Epoch 3/5\n",
      "60000/60000 [==============================] - 5s - loss: 0.1987 - acc: 0.9537 - val_loss: 0.2448 - val_acc: 0.9434\n",
      "Epoch 4/5\n",
      "60000/60000 [==============================] - 5s - loss: 0.1885 - acc: 0.9550 - val_loss: 0.2502 - val_acc: 0.9407\n",
      "Epoch 5/5\n",
      "60000/60000 [==============================] - 5s - loss: 0.1817 - acc: 0.9560 - val_loss: 0.2424 - val_acc: 0.9432\n"
     ]
    },
    {
     "data": {
      "text/plain": [
       "<keras.callbacks.History at 0x7f9367935610>"
      ]
     },
     "execution_count": 66,
     "metadata": {},
     "output_type": "execute_result"
    }
   ],
   "source": [
    "model_2.fit(X_train, y_train, batch_size=64, validation_data=(X_test, y_test), nb_epoch=5)"
   ]
  },
  {
   "cell_type": "code",
   "execution_count": 67,
   "metadata": {
    "collapsed": true
   },
   "outputs": [],
   "source": [
    "# possible checkpoint to stop optimizing. can overfit"
   ]
  },
  {
   "cell_type": "code",
   "execution_count": 68,
   "metadata": {
    "collapsed": true
   },
   "outputs": [],
   "source": [
    "# let's reduce lr and continue"
   ]
  },
  {
   "cell_type": "code",
   "execution_count": 69,
   "metadata": {
    "collapsed": true
   },
   "outputs": [],
   "source": [
    "model_2.optimizer.lr = 0.0001"
   ]
  },
  {
   "cell_type": "code",
   "execution_count": 70,
   "metadata": {
    "collapsed": false
   },
   "outputs": [
    {
     "name": "stdout",
     "output_type": "stream",
     "text": [
      "Train on 60000 samples, validate on 10000 samples\n",
      "Epoch 1/15\n",
      "60000/60000 [==============================] - 5s - loss: 0.1736 - acc: 0.9582 - val_loss: 0.2328 - val_acc: 0.9440\n",
      "Epoch 2/15\n",
      "60000/60000 [==============================] - 5s - loss: 0.1686 - acc: 0.9590 - val_loss: 0.2287 - val_acc: 0.9462\n",
      "Epoch 3/15\n",
      "60000/60000 [==============================] - 5s - loss: 0.1644 - acc: 0.9602 - val_loss: 0.2191 - val_acc: 0.9475\n",
      "Epoch 4/15\n",
      "60000/60000 [==============================] - 5s - loss: 0.1602 - acc: 0.9607 - val_loss: 0.2183 - val_acc: 0.9480\n",
      "Epoch 5/15\n",
      "60000/60000 [==============================] - 5s - loss: 0.1555 - acc: 0.9620 - val_loss: 0.2209 - val_acc: 0.9477\n",
      "Epoch 6/15\n",
      "60000/60000 [==============================] - 5s - loss: 0.1535 - acc: 0.9625 - val_loss: 0.2212 - val_acc: 0.9471\n",
      "Epoch 7/15\n",
      "60000/60000 [==============================] - 5s - loss: 0.1475 - acc: 0.9640 - val_loss: 0.2178 - val_acc: 0.9471\n",
      "Epoch 8/15\n",
      "60000/60000 [==============================] - 5s - loss: 0.1456 - acc: 0.9639 - val_loss: 0.2223 - val_acc: 0.9482\n",
      "Epoch 9/15\n",
      "60000/60000 [==============================] - 5s - loss: 0.1414 - acc: 0.9652 - val_loss: 0.2130 - val_acc: 0.9514\n",
      "Epoch 10/15\n",
      "60000/60000 [==============================] - 5s - loss: 0.1394 - acc: 0.9654 - val_loss: 0.2083 - val_acc: 0.9519\n",
      "Epoch 11/15\n",
      "60000/60000 [==============================] - 5s - loss: 0.1358 - acc: 0.9668 - val_loss: 0.2072 - val_acc: 0.9514\n",
      "Epoch 12/15\n",
      "60000/60000 [==============================] - 5s - loss: 0.1325 - acc: 0.9675 - val_loss: 0.2287 - val_acc: 0.9480\n",
      "Epoch 13/15\n",
      "60000/60000 [==============================] - 5s - loss: 0.1317 - acc: 0.9677 - val_loss: 0.2115 - val_acc: 0.9504\n",
      "Epoch 14/15\n",
      "60000/60000 [==============================] - 5s - loss: 0.1287 - acc: 0.9684 - val_loss: 0.2163 - val_acc: 0.9483\n",
      "Epoch 15/15\n",
      "60000/60000 [==============================] - 5s - loss: 0.1277 - acc: 0.9685 - val_loss: 0.2089 - val_acc: 0.9523\n"
     ]
    },
    {
     "data": {
      "text/plain": [
       "<keras.callbacks.History at 0x7f9367998f50>"
      ]
     },
     "execution_count": 70,
     "metadata": {},
     "output_type": "execute_result"
    }
   ],
   "source": [
    "model_2.fit(X_train, y_train, batch_size=64, validation_data=(X_test, y_test), nb_epoch=15)"
   ]
  },
  {
   "cell_type": "code",
   "execution_count": 71,
   "metadata": {
    "collapsed": false
   },
   "outputs": [
    {
     "name": "stdout",
     "output_type": "stream",
     "text": [
      "Train on 60000 samples, validate on 10000 samples\n",
      "Epoch 1/5\n",
      "60000/60000 [==============================] - 5s - loss: 0.1245 - acc: 0.9694 - val_loss: 0.2165 - val_acc: 0.9503\n",
      "Epoch 2/5\n",
      "60000/60000 [==============================] - 5s - loss: 0.1237 - acc: 0.9694 - val_loss: 0.2128 - val_acc: 0.9518\n",
      "Epoch 3/5\n",
      "60000/60000 [==============================] - 5s - loss: 0.1215 - acc: 0.9698 - val_loss: 0.2027 - val_acc: 0.9546\n",
      "Epoch 4/5\n",
      "60000/60000 [==============================] - 5s - loss: 0.1194 - acc: 0.9703 - val_loss: 0.2154 - val_acc: 0.9528\n",
      "Epoch 5/5\n",
      "60000/60000 [==============================] - 5s - loss: 0.1195 - acc: 0.9703 - val_loss: 0.2157 - val_acc: 0.9528\n"
     ]
    },
    {
     "data": {
      "text/plain": [
       "<keras.callbacks.History at 0x7f93679357d0>"
      ]
     },
     "execution_count": 71,
     "metadata": {},
     "output_type": "execute_result"
    }
   ],
   "source": [
    "model_2.fit(X_train, y_train, batch_size=64, validation_data=(X_test, y_test), nb_epoch=5)"
   ]
  },
  {
   "cell_type": "code",
   "execution_count": 72,
   "metadata": {
    "collapsed": false
   },
   "outputs": [
    {
     "name": "stdout",
     "output_type": "stream",
     "text": [
      "Train on 60000 samples, validate on 10000 samples\n",
      "Epoch 1/5\n",
      "60000/60000 [==============================] - 5s - loss: 0.1180 - acc: 0.9705 - val_loss: 0.2085 - val_acc: 0.9544\n",
      "Epoch 2/5\n",
      "60000/60000 [==============================] - 5s - loss: 0.1146 - acc: 0.9715 - val_loss: 0.2144 - val_acc: 0.9514\n",
      "Epoch 3/5\n",
      "60000/60000 [==============================] - 5s - loss: 0.1160 - acc: 0.9712 - val_loss: 0.2132 - val_acc: 0.9519\n",
      "Epoch 4/5\n",
      "60000/60000 [==============================] - 5s - loss: 0.1123 - acc: 0.9713 - val_loss: 0.2256 - val_acc: 0.9485\n",
      "Epoch 5/5\n",
      "60000/60000 [==============================] - 5s - loss: 0.1109 - acc: 0.9722 - val_loss: 0.2240 - val_acc: 0.9504\n"
     ]
    },
    {
     "data": {
      "text/plain": [
       "<keras.callbacks.History at 0x7f9367998e90>"
      ]
     },
     "execution_count": 72,
     "metadata": {},
     "output_type": "execute_result"
    }
   ],
   "source": [
    "model_2.fit(X_train, y_train, batch_size=64, validation_data=(X_test, y_test), nb_epoch=5)"
   ]
  },
  {
   "cell_type": "code",
   "execution_count": 73,
   "metadata": {
    "collapsed": false
   },
   "outputs": [
    {
     "name": "stdout",
     "output_type": "stream",
     "text": [
      "Train on 60000 samples, validate on 10000 samples\n",
      "Epoch 1/15\n",
      "60000/60000 [==============================] - 5s - loss: 0.1078 - acc: 0.9729 - val_loss: 0.2121 - val_acc: 0.9527\n",
      "Epoch 2/15\n",
      "60000/60000 [==============================] - 5s - loss: 0.1076 - acc: 0.9733 - val_loss: 0.2244 - val_acc: 0.9522\n",
      "Epoch 3/15\n",
      "60000/60000 [==============================] - 5s - loss: 0.1070 - acc: 0.9732 - val_loss: 0.2088 - val_acc: 0.9530\n",
      "Epoch 4/15\n",
      "60000/60000 [==============================] - 5s - loss: 0.1062 - acc: 0.9735 - val_loss: 0.2120 - val_acc: 0.9539\n",
      "Epoch 5/15\n",
      "60000/60000 [==============================] - 5s - loss: 0.1040 - acc: 0.9736 - val_loss: 0.2201 - val_acc: 0.9532\n",
      "Epoch 6/15\n",
      "60000/60000 [==============================] - 5s - loss: 0.1040 - acc: 0.9737 - val_loss: 0.2215 - val_acc: 0.9515\n",
      "Epoch 7/15\n",
      "60000/60000 [==============================] - 5s - loss: 0.1013 - acc: 0.9748 - val_loss: 0.2088 - val_acc: 0.9553\n",
      "Epoch 8/15\n",
      "60000/60000 [==============================] - 5s - loss: 0.0992 - acc: 0.9751 - val_loss: 0.2180 - val_acc: 0.9522\n",
      "Epoch 9/15\n",
      "60000/60000 [==============================] - 5s - loss: 0.0987 - acc: 0.9755 - val_loss: 0.2117 - val_acc: 0.9528\n",
      "Epoch 10/15\n",
      "60000/60000 [==============================] - 5s - loss: 0.0982 - acc: 0.9746 - val_loss: 0.2162 - val_acc: 0.9542\n",
      "Epoch 11/15\n",
      "60000/60000 [==============================] - 5s - loss: 0.0977 - acc: 0.9758 - val_loss: 0.2041 - val_acc: 0.9545\n",
      "Epoch 12/15\n",
      "60000/60000 [==============================] - 5s - loss: 0.0961 - acc: 0.9759 - val_loss: 0.2133 - val_acc: 0.9552\n",
      "Epoch 13/15\n",
      "60000/60000 [==============================] - 5s - loss: 0.0933 - acc: 0.9767 - val_loss: 0.2200 - val_acc: 0.9548\n",
      "Epoch 14/15\n",
      "60000/60000 [==============================] - 5s - loss: 0.0942 - acc: 0.9765 - val_loss: 0.2245 - val_acc: 0.9519\n",
      "Epoch 15/15\n",
      "60000/60000 [==============================] - 5s - loss: 0.0934 - acc: 0.9767 - val_loss: 0.2103 - val_acc: 0.9550\n"
     ]
    },
    {
     "data": {
      "text/plain": [
       "<keras.callbacks.History at 0x7f9368ebdb10>"
      ]
     },
     "execution_count": 73,
     "metadata": {},
     "output_type": "execute_result"
    }
   ],
   "source": [
    "model_2.fit(X_train, y_train, batch_size=64, validation_data=(X_test, y_test), nb_epoch=15)"
   ]
  },
  {
   "cell_type": "code",
   "execution_count": 74,
   "metadata": {
    "collapsed": false
   },
   "outputs": [
    {
     "name": "stdout",
     "output_type": "stream",
     "text": [
      "Train on 60000 samples, validate on 10000 samples\n",
      "Epoch 1/15\n",
      "60000/60000 [==============================] - 5s - loss: 0.0926 - acc: 0.9771 - val_loss: 0.2178 - val_acc: 0.9548\n",
      "Epoch 2/15\n",
      "60000/60000 [==============================] - 5s - loss: 0.0935 - acc: 0.9765 - val_loss: 0.2137 - val_acc: 0.9552\n",
      "Epoch 3/15\n",
      "60000/60000 [==============================] - 5s - loss: 0.0909 - acc: 0.9773 - val_loss: 0.2205 - val_acc: 0.9541\n",
      "Epoch 4/15\n",
      "60000/60000 [==============================] - 5s - loss: 0.0909 - acc: 0.9773 - val_loss: 0.2166 - val_acc: 0.9551\n",
      "Epoch 5/15\n",
      "60000/60000 [==============================] - 5s - loss: 0.0882 - acc: 0.9782 - val_loss: 0.2194 - val_acc: 0.9534\n",
      "Epoch 6/15\n",
      "60000/60000 [==============================] - 5s - loss: 0.0891 - acc: 0.9778 - val_loss: 0.2182 - val_acc: 0.9552\n",
      "Epoch 7/15\n",
      "60000/60000 [==============================] - 5s - loss: 0.0858 - acc: 0.9792 - val_loss: 0.2246 - val_acc: 0.9532\n",
      "Epoch 8/15\n",
      "60000/60000 [==============================] - 5s - loss: 0.0874 - acc: 0.9781 - val_loss: 0.2179 - val_acc: 0.9537\n",
      "Epoch 9/15\n",
      "60000/60000 [==============================] - 5s - loss: 0.0865 - acc: 0.9786 - val_loss: 0.2289 - val_acc: 0.9529\n",
      "Epoch 10/15\n",
      "60000/60000 [==============================] - 5s - loss: 0.0850 - acc: 0.9798 - val_loss: 0.2216 - val_acc: 0.9558\n",
      "Epoch 11/15\n",
      "60000/60000 [==============================] - 5s - loss: 0.0839 - acc: 0.9796 - val_loss: 0.2200 - val_acc: 0.9542\n",
      "Epoch 12/15\n",
      "60000/60000 [==============================] - 5s - loss: 0.0857 - acc: 0.9790 - val_loss: 0.2272 - val_acc: 0.9533\n",
      "Epoch 13/15\n",
      "60000/60000 [==============================] - 5s - loss: 0.0866 - acc: 0.9784 - val_loss: 0.2240 - val_acc: 0.9535\n",
      "Epoch 14/15\n",
      "60000/60000 [==============================] - 5s - loss: 0.0812 - acc: 0.9802 - val_loss: 0.2241 - val_acc: 0.9531\n",
      "Epoch 15/15\n",
      "60000/60000 [==============================] - 5s - loss: 0.0820 - acc: 0.9794 - val_loss: 0.2212 - val_acc: 0.9530\n"
     ]
    },
    {
     "data": {
      "text/plain": [
       "<keras.callbacks.History at 0x7f9367998e10>"
      ]
     },
     "execution_count": 74,
     "metadata": {},
     "output_type": "execute_result"
    }
   ],
   "source": [
    "model_2.fit(X_train, y_train, batch_size=64, validation_data=(X_test, y_test), nb_epoch=15)"
   ]
  },
  {
   "cell_type": "code",
   "execution_count": 75,
   "metadata": {
    "collapsed": true
   },
   "outputs": [],
   "source": [
    "# Nope. We should've stopped the first time we hit around 95.5 val accuracy"
   ]
  },
  {
   "cell_type": "markdown",
   "metadata": {},
   "source": [
    "## Next Architecture"
   ]
  },
  {
   "cell_type": "code",
   "execution_count": 76,
   "metadata": {
    "collapsed": true
   },
   "outputs": [],
   "source": [
    "model_3 = Sequential()\n",
    "model_3.add(Lambda(normalizer, input_shape=(1, 28, 28)))\n",
    "model_3.add(Flatten())\n",
    "model_3.add(Dense(1024, activation='softmax'))\n",
    "model_3.add(Dense(512, activation='softmax'))\n",
    "model_3.add(Dense(256, activation='softmax'))\n",
    "model_3.add(Dense(10, activation='softmax'))\n",
    "model_3.compile(Adam(), loss='categorical_crossentropy', metrics=['accuracy'] )"
   ]
  },
  {
   "cell_type": "code",
   "execution_count": 77,
   "metadata": {
    "collapsed": false
   },
   "outputs": [
    {
     "name": "stdout",
     "output_type": "stream",
     "text": [
      "Train on 60000 samples, validate on 10000 samples\n",
      "Epoch 1/10\n",
      "60000/60000 [==============================] - 10s - loss: 2.2625 - acc: 0.1340 - val_loss: 2.0524 - val_acc: 0.2038\n",
      "Epoch 2/10\n",
      "60000/60000 [==============================] - 10s - loss: 1.8999 - acc: 0.2032 - val_loss: 1.8438 - val_acc: 0.2051\n",
      "Epoch 3/10\n",
      "60000/60000 [==============================] - 10s - loss: 1.8209 - acc: 0.2063 - val_loss: 1.7907 - val_acc: 0.2093\n",
      "Epoch 4/10\n",
      "60000/60000 [==============================] - 10s - loss: 1.6943 - acc: 0.3011 - val_loss: 1.6125 - val_acc: 0.3287\n",
      "Epoch 5/10\n",
      "60000/60000 [==============================] - 10s - loss: 1.5472 - acc: 0.3988 - val_loss: 1.4643 - val_acc: 0.4691\n",
      "Epoch 6/10\n",
      "60000/60000 [==============================] - 10s - loss: 1.3892 - acc: 0.4818 - val_loss: 1.3224 - val_acc: 0.4921\n",
      "Epoch 7/10\n",
      "60000/60000 [==============================] - 10s - loss: 1.2604 - acc: 0.4975 - val_loss: 1.1779 - val_acc: 0.4951\n",
      "Epoch 8/10\n",
      "60000/60000 [==============================] - 10s - loss: 1.1365 - acc: 0.4957 - val_loss: 1.1078 - val_acc: 0.4987\n",
      "Epoch 9/10\n",
      "60000/60000 [==============================] - 10s - loss: 1.1036 - acc: 0.5003 - val_loss: 1.1040 - val_acc: 0.4997\n",
      "Epoch 10/10\n",
      "60000/60000 [==============================] - 10s - loss: 1.0873 - acc: 0.5128 - val_loss: 1.0892 - val_acc: 0.5180\n"
     ]
    },
    {
     "data": {
      "text/plain": [
       "<keras.callbacks.History at 0x7f9366c2a550>"
      ]
     },
     "execution_count": 77,
     "metadata": {},
     "output_type": "execute_result"
    }
   ],
   "source": [
    "model_3.fit(X_train, y_train, batch_size=64, validation_data=(X_test, y_test))"
   ]
  },
  {
   "cell_type": "markdown",
   "metadata": {},
   "source": [
    "### The more complex the architecture is, more time it takes to fit it?"
   ]
  },
  {
   "cell_type": "code",
   "execution_count": 78,
   "metadata": {
    "collapsed": true
   },
   "outputs": [],
   "source": [
    "model_3.optimizer.lr = 0.01"
   ]
  },
  {
   "cell_type": "code",
   "execution_count": 79,
   "metadata": {
    "collapsed": false
   },
   "outputs": [
    {
     "name": "stdout",
     "output_type": "stream",
     "text": [
      "Train on 60000 samples, validate on 10000 samples\n",
      "Epoch 1/10\n",
      "60000/60000 [==============================] - 10s - loss: 1.0536 - acc: 0.5587 - val_loss: 1.0626 - val_acc: 0.5737\n",
      "Epoch 2/10\n",
      "60000/60000 [==============================] - 10s - loss: 1.0121 - acc: 0.5800 - val_loss: 1.0260 - val_acc: 0.5803\n",
      "Epoch 3/10\n",
      "60000/60000 [==============================] - 10s - loss: 0.9850 - acc: 0.5837 - val_loss: 1.0075 - val_acc: 0.5822\n",
      "Epoch 4/10\n",
      "60000/60000 [==============================] - 10s - loss: 0.9672 - acc: 0.5853 - val_loss: 0.9847 - val_acc: 0.5811\n",
      "Epoch 5/10\n",
      "60000/60000 [==============================] - 10s - loss: 0.9534 - acc: 0.5871 - val_loss: 0.9754 - val_acc: 0.5866\n",
      "Epoch 6/10\n",
      "60000/60000 [==============================] - 10s - loss: 0.9451 - acc: 0.5895 - val_loss: 0.9829 - val_acc: 0.5793\n",
      "Epoch 7/10\n",
      "60000/60000 [==============================] - 10s - loss: 0.9397 - acc: 0.5915 - val_loss: 0.9775 - val_acc: 0.5830\n",
      "Epoch 8/10\n",
      "60000/60000 [==============================] - 10s - loss: 0.9310 - acc: 0.5936 - val_loss: 0.9596 - val_acc: 0.5918\n",
      "Epoch 9/10\n",
      "60000/60000 [==============================] - 10s - loss: 0.9259 - acc: 0.5982 - val_loss: 0.9511 - val_acc: 0.5965\n",
      "Epoch 10/10\n",
      "60000/60000 [==============================] - 10s - loss: 0.8702 - acc: 0.6448 - val_loss: 0.8277 - val_acc: 0.6651\n"
     ]
    },
    {
     "data": {
      "text/plain": [
       "<keras.callbacks.History at 0x7f9367943250>"
      ]
     },
     "execution_count": 79,
     "metadata": {},
     "output_type": "execute_result"
    }
   ],
   "source": [
    "model_3.fit(X_train, y_train, batch_size=64, validation_data=(X_test, y_test))"
   ]
  },
  {
   "cell_type": "code",
   "execution_count": 80,
   "metadata": {
    "collapsed": false
   },
   "outputs": [
    {
     "name": "stdout",
     "output_type": "stream",
     "text": [
      "Train on 60000 samples, validate on 10000 samples\n",
      "Epoch 1/5\n",
      "60000/60000 [==============================] - 10s - loss: 0.7788 - acc: 0.6699 - val_loss: 0.7911 - val_acc: 0.6657\n",
      "Epoch 2/5\n",
      "60000/60000 [==============================] - 10s - loss: 0.7510 - acc: 0.6729 - val_loss: 0.7813 - val_acc: 0.6628\n",
      "Epoch 3/5\n",
      "60000/60000 [==============================] - 10s - loss: 0.7342 - acc: 0.6767 - val_loss: 0.7737 - val_acc: 0.6688\n",
      "Epoch 4/5\n",
      "60000/60000 [==============================] - 10s - loss: 0.7238 - acc: 0.6779 - val_loss: 0.7759 - val_acc: 0.6656\n",
      "Epoch 5/5\n",
      "60000/60000 [==============================] - 10s - loss: 0.7189 - acc: 0.6799 - val_loss: 0.7629 - val_acc: 0.6714\n"
     ]
    },
    {
     "data": {
      "text/plain": [
       "<keras.callbacks.History at 0x7f9366c2a790>"
      ]
     },
     "execution_count": 80,
     "metadata": {},
     "output_type": "execute_result"
    }
   ],
   "source": [
    "model_3.fit(X_train, y_train, batch_size=64, validation_data=(X_test, y_test), nb_epoch=5)"
   ]
  },
  {
   "cell_type": "code",
   "execution_count": 81,
   "metadata": {
    "collapsed": false
   },
   "outputs": [
    {
     "name": "stdout",
     "output_type": "stream",
     "text": [
      "Train on 60000 samples, validate on 10000 samples\n",
      "Epoch 1/15\n",
      "60000/60000 [==============================] - 10s - loss: 0.7122 - acc: 0.6815 - val_loss: 0.7608 - val_acc: 0.6691\n",
      "Epoch 2/15\n",
      "60000/60000 [==============================] - 10s - loss: 0.7049 - acc: 0.6877 - val_loss: 0.7573 - val_acc: 0.6766\n",
      "Epoch 3/15\n",
      "60000/60000 [==============================] - 10s - loss: 0.6976 - acc: 0.7043 - val_loss: 0.7230 - val_acc: 0.7371\n",
      "Epoch 4/15\n",
      "60000/60000 [==============================] - 10s - loss: 0.6129 - acc: 0.7633 - val_loss: 0.6233 - val_acc: 0.7635\n",
      "Epoch 5/15\n",
      "60000/60000 [==============================] - 10s - loss: 0.5530 - acc: 0.7739 - val_loss: 0.6044 - val_acc: 0.7680\n",
      "Epoch 6/15\n",
      "60000/60000 [==============================] - 10s - loss: 0.5264 - acc: 0.7782 - val_loss: 0.5735 - val_acc: 0.7680\n",
      "Epoch 7/15\n",
      "60000/60000 [==============================] - 10s - loss: 0.5092 - acc: 0.7837 - val_loss: 0.5621 - val_acc: 0.7747\n",
      "Epoch 8/15\n",
      "60000/60000 [==============================] - 10s - loss: 0.4949 - acc: 0.7902 - val_loss: 0.5510 - val_acc: 0.7776\n",
      "Epoch 9/15\n",
      "60000/60000 [==============================] - 10s - loss: 0.4829 - acc: 0.7969 - val_loss: 0.5485 - val_acc: 0.7914\n",
      "Epoch 10/15\n",
      "60000/60000 [==============================] - 10s - loss: 0.4754 - acc: 0.8009 - val_loss: 0.5419 - val_acc: 0.7921\n",
      "Epoch 11/15\n",
      "60000/60000 [==============================] - 10s - loss: 0.4668 - acc: 0.8102 - val_loss: 0.5238 - val_acc: 0.8091\n",
      "Epoch 12/15\n",
      "60000/60000 [==============================] - 10s - loss: 0.4452 - acc: 0.8349 - val_loss: 0.4691 - val_acc: 0.8565\n",
      "Epoch 13/15\n",
      "60000/60000 [==============================] - 10s - loss: 0.3729 - acc: 0.8937 - val_loss: 0.3777 - val_acc: 0.9101\n",
      "Epoch 14/15\n",
      "60000/60000 [==============================] - 10s - loss: 0.3013 - acc: 0.9266 - val_loss: 0.3331 - val_acc: 0.9275\n",
      "Epoch 15/15\n",
      "60000/60000 [==============================] - 10s - loss: 0.2548 - acc: 0.9415 - val_loss: 0.2989 - val_acc: 0.9355\n"
     ]
    },
    {
     "data": {
      "text/plain": [
       "<keras.callbacks.History at 0x7f9367998d10>"
      ]
     },
     "execution_count": 81,
     "metadata": {},
     "output_type": "execute_result"
    }
   ],
   "source": [
    "model_3.fit(X_train, y_train, batch_size=64, validation_data=(X_test, y_test), nb_epoch=15)"
   ]
  },
  {
   "cell_type": "code",
   "execution_count": 82,
   "metadata": {
    "collapsed": true
   },
   "outputs": [],
   "source": [
    "## Big progess! What happened there? "
   ]
  },
  {
   "cell_type": "code",
   "execution_count": 83,
   "metadata": {
    "collapsed": false
   },
   "outputs": [
    {
     "name": "stdout",
     "output_type": "stream",
     "text": [
      "Train on 60000 samples, validate on 10000 samples\n",
      "Epoch 1/15\n",
      "60000/60000 [==============================] - 10s - loss: 0.2260 - acc: 0.9503 - val_loss: 0.2749 - val_acc: 0.9429\n",
      "Epoch 2/15\n",
      "60000/60000 [==============================] - 10s - loss: 0.2073 - acc: 0.9547 - val_loss: 0.2605 - val_acc: 0.9451\n",
      "Epoch 3/15\n",
      "60000/60000 [==============================] - 10s - loss: 0.1938 - acc: 0.9576 - val_loss: 0.2766 - val_acc: 0.9408\n",
      "Epoch 4/15\n",
      "60000/60000 [==============================] - 10s - loss: 0.1822 - acc: 0.9600 - val_loss: 0.2766 - val_acc: 0.9379\n",
      "Epoch 5/15\n",
      "60000/60000 [==============================] - 10s - loss: 0.1728 - acc: 0.9619 - val_loss: 0.2468 - val_acc: 0.9486\n",
      "Epoch 6/15\n",
      "60000/60000 [==============================] - 10s - loss: 0.1679 - acc: 0.9632 - val_loss: 0.2425 - val_acc: 0.9491\n",
      "Epoch 7/15\n",
      "60000/60000 [==============================] - 10s - loss: 0.1633 - acc: 0.9639 - val_loss: 0.2418 - val_acc: 0.9479\n",
      "Epoch 8/15\n",
      "60000/60000 [==============================] - 10s - loss: 0.1577 - acc: 0.9654 - val_loss: 0.2259 - val_acc: 0.9517\n",
      "Epoch 9/15\n",
      "60000/60000 [==============================] - 10s - loss: 0.1527 - acc: 0.9668 - val_loss: 0.2460 - val_acc: 0.9478\n",
      "Epoch 10/15\n",
      "60000/60000 [==============================] - 10s - loss: 0.1486 - acc: 0.9678 - val_loss: 0.2244 - val_acc: 0.9532\n",
      "Epoch 11/15\n",
      "60000/60000 [==============================] - 10s - loss: 0.1460 - acc: 0.9683 - val_loss: 0.2204 - val_acc: 0.9541\n",
      "Epoch 12/15\n",
      "60000/60000 [==============================] - 10s - loss: 0.1415 - acc: 0.9692 - val_loss: 0.2298 - val_acc: 0.9519\n",
      "Epoch 13/15\n",
      "60000/60000 [==============================] - 10s - loss: 0.1377 - acc: 0.9698 - val_loss: 0.2401 - val_acc: 0.9503\n",
      "Epoch 14/15\n",
      "60000/60000 [==============================] - 10s - loss: 0.1347 - acc: 0.9707 - val_loss: 0.2316 - val_acc: 0.9516\n",
      "Epoch 15/15\n",
      "60000/60000 [==============================] - 10s - loss: 0.1334 - acc: 0.9705 - val_loss: 0.2210 - val_acc: 0.9540\n"
     ]
    },
    {
     "data": {
      "text/plain": [
       "<keras.callbacks.History at 0x7f9367935110>"
      ]
     },
     "execution_count": 83,
     "metadata": {},
     "output_type": "execute_result"
    }
   ],
   "source": [
    "model_3.fit(X_train, y_train, batch_size=64, validation_data=(X_test, y_test), nb_epoch=15)"
   ]
  },
  {
   "cell_type": "code",
   "execution_count": 84,
   "metadata": {
    "collapsed": true
   },
   "outputs": [],
   "source": [
    "#took more time, but we're got to that 95.5~ mark. Let's go further"
   ]
  },
  {
   "cell_type": "code",
   "execution_count": 85,
   "metadata": {
    "collapsed": false
   },
   "outputs": [
    {
     "name": "stdout",
     "output_type": "stream",
     "text": [
      "Train on 60000 samples, validate on 10000 samples\n",
      "Epoch 1/5\n",
      "60000/60000 [==============================] - 10s - loss: 0.1302 - acc: 0.9712 - val_loss: 0.2343 - val_acc: 0.9515\n",
      "Epoch 2/5\n",
      "60000/60000 [==============================] - 10s - loss: 0.1289 - acc: 0.9719 - val_loss: 0.2141 - val_acc: 0.9563\n",
      "Epoch 3/5\n",
      "60000/60000 [==============================] - 10s - loss: 0.1275 - acc: 0.9727 - val_loss: 0.2223 - val_acc: 0.9545\n",
      "Epoch 4/5\n",
      "60000/60000 [==============================] - 10s - loss: 0.1242 - acc: 0.9728 - val_loss: 0.2437 - val_acc: 0.9516\n",
      "Epoch 5/5\n",
      "60000/60000 [==============================] - 10s - loss: 0.1213 - acc: 0.9740 - val_loss: 0.2340 - val_acc: 0.9506\n"
     ]
    },
    {
     "data": {
      "text/plain": [
       "<keras.callbacks.History at 0x7f9367943410>"
      ]
     },
     "execution_count": 85,
     "metadata": {},
     "output_type": "execute_result"
    }
   ],
   "source": [
    "model_3.fit(X_train, y_train, batch_size=64, validation_data=(X_test, y_test), nb_epoch=5)"
   ]
  },
  {
   "cell_type": "code",
   "execution_count": 86,
   "metadata": {
    "collapsed": false
   },
   "outputs": [
    {
     "name": "stdout",
     "output_type": "stream",
     "text": [
      "Train on 60000 samples, validate on 10000 samples\n",
      "Epoch 1/10\n",
      "60000/60000 [==============================] - 10s - loss: 0.1225 - acc: 0.9732 - val_loss: 0.2214 - val_acc: 0.9555\n",
      "Epoch 2/10\n",
      "60000/60000 [==============================] - 10s - loss: 0.1181 - acc: 0.9739 - val_loss: 0.2264 - val_acc: 0.9539\n",
      "Epoch 3/10\n",
      "60000/60000 [==============================] - 10s - loss: 0.1183 - acc: 0.9738 - val_loss: 0.2195 - val_acc: 0.9556\n",
      "Epoch 4/10\n",
      "60000/60000 [==============================] - 10s - loss: 0.1158 - acc: 0.9744 - val_loss: 0.2235 - val_acc: 0.9539\n",
      "Epoch 5/10\n",
      "60000/60000 [==============================] - 10s - loss: 0.1144 - acc: 0.9751 - val_loss: 0.2261 - val_acc: 0.9543\n",
      "Epoch 6/10\n",
      "60000/60000 [==============================] - 10s - loss: 0.1134 - acc: 0.9754 - val_loss: 0.2226 - val_acc: 0.9562\n",
      "Epoch 7/10\n",
      "60000/60000 [==============================] - 10s - loss: 0.1124 - acc: 0.9754 - val_loss: 0.2363 - val_acc: 0.9541\n",
      "Epoch 8/10\n",
      "60000/60000 [==============================] - 10s - loss: 0.1124 - acc: 0.9754 - val_loss: 0.2271 - val_acc: 0.9527\n",
      "Epoch 9/10\n",
      "60000/60000 [==============================] - 10s - loss: 0.1078 - acc: 0.9764 - val_loss: 0.2229 - val_acc: 0.9538\n",
      "Epoch 10/10\n",
      "60000/60000 [==============================] - 10s - loss: 0.1080 - acc: 0.9763 - val_loss: 0.2360 - val_acc: 0.9526\n"
     ]
    },
    {
     "data": {
      "text/plain": [
       "<keras.callbacks.History at 0x7f9366c2ad10>"
      ]
     },
     "execution_count": 86,
     "metadata": {},
     "output_type": "execute_result"
    }
   ],
   "source": [
    "model_3.fit(X_train, y_train, batch_size=64, validation_data=(X_test, y_test), nb_epoch=10)"
   ]
  },
  {
   "cell_type": "code",
   "execution_count": 87,
   "metadata": {
    "collapsed": true
   },
   "outputs": [],
   "source": [
    "model_3.optimizer.lr = 0.001"
   ]
  },
  {
   "cell_type": "code",
   "execution_count": 88,
   "metadata": {
    "collapsed": false
   },
   "outputs": [
    {
     "name": "stdout",
     "output_type": "stream",
     "text": [
      "Train on 60000 samples, validate on 10000 samples\n",
      "Epoch 1/15\n",
      "60000/60000 [==============================] - 10s - loss: 0.1092 - acc: 0.9761 - val_loss: 0.2283 - val_acc: 0.9536\n",
      "Epoch 2/15\n",
      "60000/60000 [==============================] - 10s - loss: 0.1047 - acc: 0.9772 - val_loss: 0.2309 - val_acc: 0.9531\n",
      "Epoch 3/15\n",
      "60000/60000 [==============================] - 10s - loss: 0.1064 - acc: 0.9765 - val_loss: 0.2304 - val_acc: 0.9542\n",
      "Epoch 4/15\n",
      "60000/60000 [==============================] - 10s - loss: 0.1061 - acc: 0.9768 - val_loss: 0.2506 - val_acc: 0.9502\n",
      "Epoch 5/15\n",
      "60000/60000 [==============================] - 10s - loss: 0.1040 - acc: 0.9773 - val_loss: 0.2321 - val_acc: 0.9549\n",
      "Epoch 6/15\n",
      "60000/60000 [==============================] - 10s - loss: 0.1013 - acc: 0.9775 - val_loss: 0.2327 - val_acc: 0.9538\n",
      "Epoch 7/15\n",
      "60000/60000 [==============================] - 10s - loss: 0.1005 - acc: 0.9780 - val_loss: 0.2274 - val_acc: 0.9567\n",
      "Epoch 8/15\n",
      "60000/60000 [==============================] - 10s - loss: 0.0985 - acc: 0.9786 - val_loss: 0.2390 - val_acc: 0.9511\n",
      "Epoch 9/15\n",
      "60000/60000 [==============================] - 10s - loss: 0.1008 - acc: 0.9782 - val_loss: 0.2330 - val_acc: 0.9518\n",
      "Epoch 10/15\n",
      "60000/60000 [==============================] - 10s - loss: 0.0995 - acc: 0.9784 - val_loss: 0.2376 - val_acc: 0.9529\n",
      "Epoch 11/15\n",
      "60000/60000 [==============================] - 10s - loss: 0.1011 - acc: 0.9774 - val_loss: 0.2297 - val_acc: 0.9543\n",
      "Epoch 12/15\n",
      "60000/60000 [==============================] - 10s - loss: 0.0962 - acc: 0.9789 - val_loss: 0.2373 - val_acc: 0.9537\n",
      "Epoch 13/15\n",
      "60000/60000 [==============================] - 10s - loss: 0.0966 - acc: 0.9788 - val_loss: 0.2310 - val_acc: 0.9549\n",
      "Epoch 14/15\n",
      "60000/60000 [==============================] - 10s - loss: 0.0960 - acc: 0.9785 - val_loss: 0.2436 - val_acc: 0.9520\n",
      "Epoch 15/15\n",
      "60000/60000 [==============================] - 10s - loss: 0.0941 - acc: 0.9795 - val_loss: 0.2395 - val_acc: 0.9540\n"
     ]
    },
    {
     "data": {
      "text/plain": [
       "<keras.callbacks.History at 0x7f936848ce90>"
      ]
     },
     "execution_count": 88,
     "metadata": {},
     "output_type": "execute_result"
    }
   ],
   "source": [
    "model_3.fit(X_train, y_train, batch_size=64, validation_data=(X_test, y_test), nb_epoch=15)"
   ]
  },
  {
   "cell_type": "code",
   "execution_count": 89,
   "metadata": {
    "collapsed": false
   },
   "outputs": [
    {
     "name": "stdout",
     "output_type": "stream",
     "text": [
      "Train on 60000 samples, validate on 10000 samples\n",
      "Epoch 1/15\n",
      "60000/60000 [==============================] - 10s - loss: 0.0941 - acc: 0.9795 - val_loss: 0.2452 - val_acc: 0.9519\n",
      "Epoch 2/15\n",
      "60000/60000 [==============================] - 10s - loss: 0.0946 - acc: 0.9790 - val_loss: 0.2396 - val_acc: 0.9544\n",
      "Epoch 3/15\n",
      "60000/60000 [==============================] - 10s - loss: 0.0916 - acc: 0.9800 - val_loss: 0.2368 - val_acc: 0.9543\n",
      "Epoch 4/15\n",
      "60000/60000 [==============================] - 10s - loss: 0.0907 - acc: 0.9798 - val_loss: 0.2322 - val_acc: 0.9552\n",
      "Epoch 5/15\n",
      "60000/60000 [==============================] - 10s - loss: 0.0905 - acc: 0.9801 - val_loss: 0.2384 - val_acc: 0.9531\n",
      "Epoch 6/15\n",
      "60000/60000 [==============================] - 10s - loss: 0.0925 - acc: 0.9798 - val_loss: 0.2341 - val_acc: 0.9552\n",
      "Epoch 7/15\n",
      "60000/60000 [==============================] - 10s - loss: 0.0899 - acc: 0.9806 - val_loss: 0.2434 - val_acc: 0.9528\n",
      "Epoch 8/15\n",
      "60000/60000 [==============================] - 10s - loss: 0.0894 - acc: 0.9801 - val_loss: 0.2414 - val_acc: 0.9532\n",
      "Epoch 9/15\n",
      "60000/60000 [==============================] - 10s - loss: 0.0904 - acc: 0.9805 - val_loss: 0.2385 - val_acc: 0.9531\n",
      "Epoch 10/15\n",
      "60000/60000 [==============================] - 10s - loss: 0.0887 - acc: 0.9807 - val_loss: 0.2462 - val_acc: 0.9530\n",
      "Epoch 11/15\n",
      "60000/60000 [==============================] - 10s - loss: 0.0882 - acc: 0.9807 - val_loss: 0.2401 - val_acc: 0.9539\n",
      "Epoch 12/15\n",
      "60000/60000 [==============================] - 10s - loss: 0.0867 - acc: 0.9810 - val_loss: 0.2487 - val_acc: 0.9527\n",
      "Epoch 13/15\n",
      "60000/60000 [==============================] - 10s - loss: 0.0906 - acc: 0.9801 - val_loss: 0.2495 - val_acc: 0.9519\n",
      "Epoch 14/15\n",
      "60000/60000 [==============================] - 10s - loss: 0.0856 - acc: 0.9810 - val_loss: 0.2438 - val_acc: 0.9529\n",
      "Epoch 15/15\n",
      "60000/60000 [==============================] - 10s - loss: 0.0850 - acc: 0.9815 - val_loss: 0.2461 - val_acc: 0.9530\n"
     ]
    },
    {
     "data": {
      "text/plain": [
       "<keras.callbacks.History at 0x7f9366c2ab10>"
      ]
     },
     "execution_count": 89,
     "metadata": {},
     "output_type": "execute_result"
    }
   ],
   "source": [
    "model_3.fit(X_train, y_train, batch_size=64, validation_data=(X_test, y_test), nb_epoch=15)"
   ]
  },
  {
   "cell_type": "code",
   "execution_count": 90,
   "metadata": {
    "collapsed": false
   },
   "outputs": [
    {
     "name": "stdout",
     "output_type": "stream",
     "text": [
      "Train on 60000 samples, validate on 10000 samples\n",
      "Epoch 1/5\n",
      "60000/60000 [==============================] - 10s - loss: 0.0865 - acc: 0.9808 - val_loss: 0.2401 - val_acc: 0.9531\n",
      "Epoch 2/5\n",
      "60000/60000 [==============================] - 10s - loss: 0.0846 - acc: 0.9813 - val_loss: 0.2450 - val_acc: 0.9539\n",
      "Epoch 3/5\n",
      "60000/60000 [==============================] - 10s - loss: 0.0839 - acc: 0.9813 - val_loss: 0.2500 - val_acc: 0.9534\n",
      "Epoch 4/5\n",
      "60000/60000 [==============================] - 10s - loss: 0.0846 - acc: 0.9812 - val_loss: 0.2393 - val_acc: 0.9537\n",
      "Epoch 5/5\n",
      "60000/60000 [==============================] - 10s - loss: 0.0834 - acc: 0.9817 - val_loss: 0.2423 - val_acc: 0.9528\n"
     ]
    },
    {
     "data": {
      "text/plain": [
       "<keras.callbacks.History at 0x7f9366c2a5d0>"
      ]
     },
     "execution_count": 90,
     "metadata": {},
     "output_type": "execute_result"
    }
   ],
   "source": [
    "model_3.fit(X_train, y_train, batch_size=64, validation_data=(X_test, y_test), nb_epoch=5)"
   ]
  },
  {
   "cell_type": "code",
   "execution_count": 91,
   "metadata": {
    "collapsed": false
   },
   "outputs": [
    {
     "name": "stdout",
     "output_type": "stream",
     "text": [
      "Train on 60000 samples, validate on 10000 samples\n",
      "Epoch 1/15\n",
      "60000/60000 [==============================] - 10s - loss: 0.0831 - acc: 0.9821 - val_loss: 0.2457 - val_acc: 0.9547\n",
      "Epoch 2/15\n",
      "60000/60000 [==============================] - 10s - loss: 0.0835 - acc: 0.9817 - val_loss: 0.2361 - val_acc: 0.9546\n",
      "Epoch 3/15\n",
      "60000/60000 [==============================] - 10s - loss: 0.0811 - acc: 0.9826 - val_loss: 0.2454 - val_acc: 0.9539\n",
      "Epoch 4/15\n",
      "60000/60000 [==============================] - 10s - loss: 0.0827 - acc: 0.9822 - val_loss: 0.2418 - val_acc: 0.9552\n",
      "Epoch 5/15\n",
      "60000/60000 [==============================] - 10s - loss: 0.0820 - acc: 0.9814 - val_loss: 0.2326 - val_acc: 0.9559\n",
      "Epoch 6/15\n",
      "60000/60000 [==============================] - 10s - loss: 0.0799 - acc: 0.9826 - val_loss: 0.2435 - val_acc: 0.9537\n",
      "Epoch 7/15\n",
      "60000/60000 [==============================] - 10s - loss: 0.0804 - acc: 0.9824 - val_loss: 0.2380 - val_acc: 0.9543\n",
      "Epoch 8/15\n",
      "60000/60000 [==============================] - 10s - loss: 0.0806 - acc: 0.9820 - val_loss: 0.2416 - val_acc: 0.9543\n",
      "Epoch 9/15\n",
      "60000/60000 [==============================] - 10s - loss: 0.0790 - acc: 0.9825 - val_loss: 0.2488 - val_acc: 0.9531\n",
      "Epoch 10/15\n",
      "60000/60000 [==============================] - 10s - loss: 0.0813 - acc: 0.9822 - val_loss: 0.2490 - val_acc: 0.9523\n",
      "Epoch 11/15\n",
      "60000/60000 [==============================] - 10s - loss: 0.0785 - acc: 0.9825 - val_loss: 0.2506 - val_acc: 0.9536\n",
      "Epoch 12/15\n",
      "60000/60000 [==============================] - 10s - loss: 0.0780 - acc: 0.9830 - val_loss: 0.2428 - val_acc: 0.9530\n",
      "Epoch 13/15\n",
      "60000/60000 [==============================] - 10s - loss: 0.0806 - acc: 0.9825 - val_loss: 0.2404 - val_acc: 0.9537\n",
      "Epoch 14/15\n",
      "60000/60000 [==============================] - 10s - loss: 0.0768 - acc: 0.9833 - val_loss: 0.2513 - val_acc: 0.9535\n",
      "Epoch 15/15\n",
      "60000/60000 [==============================] - 10s - loss: 0.0806 - acc: 0.9823 - val_loss: 0.2327 - val_acc: 0.9556\n"
     ]
    },
    {
     "data": {
      "text/plain": [
       "<keras.callbacks.History at 0x7f9366c2a950>"
      ]
     },
     "execution_count": 91,
     "metadata": {},
     "output_type": "execute_result"
    }
   ],
   "source": [
    "model_3.fit(X_train, y_train, batch_size=64, validation_data=(X_test, y_test), nb_epoch=15)"
   ]
  },
  {
   "cell_type": "code",
   "execution_count": null,
   "metadata": {
    "collapsed": true
   },
   "outputs": [],
   "source": []
  }
 ],
 "metadata": {
  "anaconda-cloud": {},
  "kernelspec": {
   "display_name": "Python [default]",
   "language": "python",
   "name": "python2"
  },
  "language_info": {
   "codemirror_mode": {
    "name": "ipython",
    "version": 2
   },
   "file_extension": ".py",
   "mimetype": "text/x-python",
   "name": "python",
   "nbconvert_exporter": "python",
   "pygments_lexer": "ipython2",
   "version": "2.7.12"
  }
 },
 "nbformat": 4,
 "nbformat_minor": 2
}
