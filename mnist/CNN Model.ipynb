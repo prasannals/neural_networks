{
 "cells": [
  {
   "cell_type": "code",
   "execution_count": 1,
   "metadata": {
    "collapsed": false
   },
   "outputs": [
    {
     "name": "stderr",
     "output_type": "stream",
     "text": [
      "Using Theano backend.\n",
      "Using gpu device 0: Tesla K80 (CNMeM is disabled, cuDNN 5103)\n",
      "/home/ubuntu/anaconda2/lib/python2.7/site-packages/theano/sandbox/cuda/__init__.py:600: UserWarning: Your cuDNN version is more recent than the one Theano officially supports. If you see any problems, try updating Theano or downgrading cuDNN to version 5.\n",
      "  warnings.warn(warn)\n"
     ]
    }
   ],
   "source": [
    "import keras\n",
    "import numpy as np"
   ]
  },
  {
   "cell_type": "code",
   "execution_count": 2,
   "metadata": {
    "collapsed": true
   },
   "outputs": [],
   "source": [
    "np.random.seed(123)"
   ]
  },
  {
   "cell_type": "markdown",
   "metadata": {},
   "source": [
    "## Preprocessing Data"
   ]
  },
  {
   "cell_type": "code",
   "execution_count": 3,
   "metadata": {
    "collapsed": true
   },
   "outputs": [],
   "source": [
    "def get_mnist_data():\n",
    "    from keras.datasets import mnist\n",
    "    from keras.utils import np_utils\n",
    "    (X_train, y_train), (X_test, y_test) = mnist.load_data()\n",
    "    X_train = X_train.reshape(X_train.shape[0], 1, X_train.shape[1], X_train.shape[2])\n",
    "    y_train = y_train.reshape(y_train.shape[0], 1)\n",
    "    X_test = X_test.reshape(X_test.shape[0], 1, X_test.shape[1], X_test.shape[2])\n",
    "    y_test = y_test.reshape(y_test.shape[0], 1)\n",
    "    \n",
    "    y_train = np_utils.to_categorical(y_train)\n",
    "    y_test  = np_utils.to_categorical(y_test)\n",
    "    \n",
    "    return X_train, y_train, X_test, y_test"
   ]
  },
  {
   "cell_type": "code",
   "execution_count": 4,
   "metadata": {
    "collapsed": false
   },
   "outputs": [],
   "source": [
    "X_train, y_train, X_test, y_test = get_mnist_data()"
   ]
  },
  {
   "cell_type": "code",
   "execution_count": 5,
   "metadata": {
    "collapsed": false
   },
   "outputs": [
    {
     "data": {
      "text/plain": [
       "((60000, 1, 28, 28), (60000, 10), (10000, 1, 28, 28), (10000, 10))"
      ]
     },
     "execution_count": 5,
     "metadata": {},
     "output_type": "execute_result"
    }
   ],
   "source": [
    "X_train.shape, y_train.shape, X_test.shape, y_test.shape"
   ]
  },
  {
   "cell_type": "code",
   "execution_count": 6,
   "metadata": {
    "collapsed": false
   },
   "outputs": [],
   "source": [
    "X_mean = X_train.mean().astype(np.float32)"
   ]
  },
  {
   "cell_type": "code",
   "execution_count": 7,
   "metadata": {
    "collapsed": false
   },
   "outputs": [],
   "source": [
    "X_std = X_train.std().astype(np.float32)"
   ]
  },
  {
   "cell_type": "code",
   "execution_count": 8,
   "metadata": {
    "collapsed": true
   },
   "outputs": [],
   "source": [
    "def normalizer(x):\n",
    "    return (x - X_mean) / X_std"
   ]
  },
  {
   "cell_type": "markdown",
   "metadata": {},
   "source": [
    "## Building the model"
   ]
  },
  {
   "cell_type": "code",
   "execution_count": 12,
   "metadata": {
    "collapsed": true
   },
   "outputs": [],
   "source": [
    "from keras.layers import Convolution2D, Dense, Flatten, Lambda, Dropout\n",
    "from keras.models import Sequential\n",
    "from keras.optimizers import Adam\n",
    "from keras.layers.pooling import MaxPooling2D"
   ]
  },
  {
   "cell_type": "markdown",
   "metadata": {},
   "source": [
    "### CNN Model"
   ]
  },
  {
   "cell_type": "code",
   "execution_count": 10,
   "metadata": {
    "collapsed": true
   },
   "outputs": [],
   "source": [
    "nb_epoch = 5"
   ]
  },
  {
   "cell_type": "code",
   "execution_count": 17,
   "metadata": {
    "collapsed": true
   },
   "outputs": [],
   "source": [
    "model_1 = Sequential()\n",
    "model_1.add(Lambda(normalizer, input_shape=(1, 28, 28)))\n",
    "model_1.add(Convolution2D(32, 3, 3, activation='relu'))\n",
    "model_1.add(Convolution2D(32, 3, 3, activation='relu'))\n",
    "model_1.add(MaxPooling2D())\n",
    "model_1.add(Convolution2D(64, 3, 3, activation='relu'))\n",
    "model_1.add(Convolution2D(64, 3, 3, activation='relu'))\n",
    "model_1.add(MaxPooling2D())\n",
    "model_1.add(Flatten())\n",
    "model_1.add(Dense(512, activation='relu'))\n",
    "model_1.add(Dense(10, activation='softmax'))\n",
    "model_1.compile(Adam(), loss='categorical_crossentropy', metrics=['accuracy'] )"
   ]
  },
  {
   "cell_type": "code",
   "execution_count": 18,
   "metadata": {
    "collapsed": false
   },
   "outputs": [
    {
     "name": "stdout",
     "output_type": "stream",
     "text": [
      "Train on 60000 samples, validate on 10000 samples\n",
      "Epoch 1/5\n",
      "60000/60000 [==============================] - 21s - loss: 0.1039 - acc: 0.9681 - val_loss: 0.0391 - val_acc: 0.9877\n",
      "Epoch 2/5\n",
      "60000/60000 [==============================] - 21s - loss: 0.0350 - acc: 0.9891 - val_loss: 0.0276 - val_acc: 0.9918\n",
      "Epoch 3/5\n",
      "60000/60000 [==============================] - 21s - loss: 0.0242 - acc: 0.9925 - val_loss: 0.0236 - val_acc: 0.9930\n",
      "Epoch 4/5\n",
      "60000/60000 [==============================] - 21s - loss: 0.0187 - acc: 0.9942 - val_loss: 0.0281 - val_acc: 0.9909\n",
      "Epoch 5/5\n",
      "60000/60000 [==============================] - 21s - loss: 0.0148 - acc: 0.9954 - val_loss: 0.0285 - val_acc: 0.9921\n"
     ]
    },
    {
     "data": {
      "text/plain": [
       "<keras.callbacks.History at 0x7efe0a3a4250>"
      ]
     },
     "execution_count": 18,
     "metadata": {},
     "output_type": "execute_result"
    }
   ],
   "source": [
    "model_1.fit(X_train, y_train,batch_size=64, validation_data=(X_test, y_test), nb_epoch=nb_epoch)"
   ]
  },
  {
   "cell_type": "code",
   "execution_count": 19,
   "metadata": {
    "collapsed": false
   },
   "outputs": [
    {
     "name": "stdout",
     "output_type": "stream",
     "text": [
      "Train on 60000 samples, validate on 10000 samples\n",
      "Epoch 1/10\n",
      "60000/60000 [==============================] - 21s - loss: 0.0127 - acc: 0.9958 - val_loss: 0.0334 - val_acc: 0.9922\n",
      "Epoch 2/10\n",
      "60000/60000 [==============================] - 21s - loss: 0.0131 - acc: 0.9957 - val_loss: 0.0227 - val_acc: 0.9939\n",
      "Epoch 3/10\n",
      "60000/60000 [==============================] - 21s - loss: 0.0095 - acc: 0.9970 - val_loss: 0.0270 - val_acc: 0.9939\n",
      "Epoch 4/10\n",
      "60000/60000 [==============================] - 21s - loss: 0.0085 - acc: 0.9972 - val_loss: 0.0292 - val_acc: 0.9928\n",
      "Epoch 5/10\n",
      "60000/60000 [==============================] - 21s - loss: 0.0073 - acc: 0.9976 - val_loss: 0.0405 - val_acc: 0.9915\n",
      "Epoch 6/10\n",
      "60000/60000 [==============================] - 21s - loss: 0.0076 - acc: 0.9976 - val_loss: 0.0339 - val_acc: 0.9919\n",
      "Epoch 7/10\n",
      "60000/60000 [==============================] - 21s - loss: 0.0086 - acc: 0.9977 - val_loss: 0.0314 - val_acc: 0.9920\n",
      "Epoch 8/10\n",
      "60000/60000 [==============================] - 21s - loss: 0.0044 - acc: 0.9986 - val_loss: 0.0301 - val_acc: 0.9941\n",
      "Epoch 9/10\n",
      "60000/60000 [==============================] - 21s - loss: 0.0064 - acc: 0.9981 - val_loss: 0.0348 - val_acc: 0.9914\n",
      "Epoch 10/10\n",
      "60000/60000 [==============================] - 21s - loss: 0.0058 - acc: 0.9984 - val_loss: 0.0291 - val_acc: 0.9939\n"
     ]
    },
    {
     "data": {
      "text/plain": [
       "<keras.callbacks.History at 0x7efe0ab29fd0>"
      ]
     },
     "execution_count": 19,
     "metadata": {},
     "output_type": "execute_result"
    }
   ],
   "source": [
    "model_1.fit(X_train, y_train,batch_size=64, validation_data=(X_test, y_test), nb_epoch=10)"
   ]
  },
  {
   "cell_type": "markdown",
   "metadata": {},
   "source": [
    "### Is learning rate optimal?\n",
    "\n",
    "default in Adam is 0.001"
   ]
  },
  {
   "cell_type": "code",
   "execution_count": 13,
   "metadata": {
    "collapsed": true
   },
   "outputs": [],
   "source": [
    "model.optimizer.lr = 0.1"
   ]
  },
  {
   "cell_type": "markdown",
   "metadata": {},
   "source": [
    "Looks like learning rate is already good enough at 0.001 (default value)"
   ]
  },
  {
   "cell_type": "code",
   "execution_count": null,
   "metadata": {
    "collapsed": true
   },
   "outputs": [],
   "source": []
  }
 ],
 "metadata": {
  "anaconda-cloud": {},
  "kernelspec": {
   "display_name": "Python [default]",
   "language": "python",
   "name": "python2"
  },
  "language_info": {
   "codemirror_mode": {
    "name": "ipython",
    "version": 2
   },
   "file_extension": ".py",
   "mimetype": "text/x-python",
   "name": "python",
   "nbconvert_exporter": "python",
   "pygments_lexer": "ipython2",
   "version": "2.7.12"
  }
 },
 "nbformat": 4,
 "nbformat_minor": 2
}
