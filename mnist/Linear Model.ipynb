{
 "cells": [
  {
   "cell_type": "code",
   "execution_count": 1,
   "metadata": {
    "collapsed": false
   },
   "outputs": [
    {
     "name": "stderr",
     "output_type": "stream",
     "text": [
      "Using Theano backend.\n",
      "Using gpu device 0: Tesla K80 (CNMeM is disabled, cuDNN 5103)\n",
      "/home/ubuntu/anaconda2/lib/python2.7/site-packages/theano/sandbox/cuda/__init__.py:600: UserWarning: Your cuDNN version is more recent than the one Theano officially supports. If you see any problems, try updating Theano or downgrading cuDNN to version 5.\n",
      "  warnings.warn(warn)\n"
     ]
    }
   ],
   "source": [
    "import keras\n",
    "import numpy as np"
   ]
  },
  {
   "cell_type": "code",
   "execution_count": 12,
   "metadata": {
    "collapsed": true
   },
   "outputs": [],
   "source": [
    "np.random.seed(123)"
   ]
  },
  {
   "cell_type": "markdown",
   "metadata": {},
   "source": [
    "## Preprocessing Data"
   ]
  },
  {
   "cell_type": "code",
   "execution_count": 2,
   "metadata": {
    "collapsed": true
   },
   "outputs": [],
   "source": [
    "def get_mnist_data():\n",
    "    from keras.datasets import mnist\n",
    "    from keras.utils import np_utils\n",
    "    (X_train, y_train), (X_test, y_test) = mnist.load_data()\n",
    "    X_train = X_train.reshape(X_train.shape[0], 1, X_train.shape[1], X_train.shape[2])\n",
    "    y_train = y_train.reshape(y_train.shape[0], 1)\n",
    "    X_test = X_test.reshape(X_test.shape[0], 1, X_test.shape[1], X_test.shape[2])\n",
    "    y_test = y_test.reshape(y_test.shape[0], 1)\n",
    "    \n",
    "    y_train = np_utils.to_categorical(y_train)\n",
    "    y_test  = np_utils.to_categorical(y_test)\n",
    "    \n",
    "    return X_train, y_train, X_test, y_test"
   ]
  },
  {
   "cell_type": "code",
   "execution_count": 3,
   "metadata": {
    "collapsed": false
   },
   "outputs": [],
   "source": [
    "X_train, y_train, X_test, y_test = get_mnist_data()"
   ]
  },
  {
   "cell_type": "code",
   "execution_count": 4,
   "metadata": {
    "collapsed": false
   },
   "outputs": [
    {
     "data": {
      "text/plain": [
       "((60000, 1, 28, 28), (60000, 10), (10000, 1, 28, 28), (10000, 10))"
      ]
     },
     "execution_count": 4,
     "metadata": {},
     "output_type": "execute_result"
    }
   ],
   "source": [
    "X_train.shape, y_train.shape, X_test.shape, y_test.shape"
   ]
  },
  {
   "cell_type": "code",
   "execution_count": 5,
   "metadata": {
    "collapsed": false
   },
   "outputs": [],
   "source": [
    "X_mean = X_train.mean().astype(np.float32)"
   ]
  },
  {
   "cell_type": "code",
   "execution_count": 6,
   "metadata": {
    "collapsed": false
   },
   "outputs": [],
   "source": [
    "X_std = X_train.std().astype(np.float32)"
   ]
  },
  {
   "cell_type": "code",
   "execution_count": 7,
   "metadata": {
    "collapsed": true
   },
   "outputs": [],
   "source": [
    "def normalizer(x):\n",
    "    return (x - X_mean) / X_std"
   ]
  },
  {
   "cell_type": "markdown",
   "metadata": {},
   "source": [
    "## Building the model"
   ]
  },
  {
   "cell_type": "code",
   "execution_count": 8,
   "metadata": {
    "collapsed": true
   },
   "outputs": [],
   "source": [
    "from keras.layers import Convolution2D, Dense, Flatten, Lambda, Dropout\n",
    "from keras.models import Sequential\n",
    "from keras.optimizers import Adam"
   ]
  },
  {
   "cell_type": "markdown",
   "metadata": {},
   "source": [
    "### Linear Model"
   ]
  },
  {
   "cell_type": "code",
   "execution_count": 15,
   "metadata": {
    "collapsed": true
   },
   "outputs": [],
   "source": [
    "nb_epoch = 5"
   ]
  },
  {
   "cell_type": "code",
   "execution_count": 9,
   "metadata": {
    "collapsed": true
   },
   "outputs": [],
   "source": [
    "model = Sequential([Lambda(normalizer, input_shape=(1, 28, 28)), Flatten(), Dense(10, activation='softmax')])"
   ]
  },
  {
   "cell_type": "code",
   "execution_count": 10,
   "metadata": {
    "collapsed": true
   },
   "outputs": [],
   "source": [
    "model.compile(Adam(), loss='categorical_crossentropy', metrics=['accuracy'] )"
   ]
  },
  {
   "cell_type": "code",
   "execution_count": 11,
   "metadata": {
    "collapsed": false
   },
   "outputs": [
    {
     "name": "stdout",
     "output_type": "stream",
     "text": [
      "Train on 60000 samples, validate on 10000 samples\n",
      "Epoch 1/10\n",
      "60000/60000 [==============================] - 6s - loss: 0.3889 - acc: 0.8857 - val_loss: 0.2963 - val_acc: 0.9172\n",
      "Epoch 2/10\n",
      "60000/60000 [==============================] - 6s - loss: 0.2988 - acc: 0.9156 - val_loss: 0.2857 - val_acc: 0.9186\n",
      "Epoch 3/10\n",
      "60000/60000 [==============================] - 6s - loss: 0.2893 - acc: 0.9183 - val_loss: 0.2775 - val_acc: 0.9235\n",
      "Epoch 4/10\n",
      "60000/60000 [==============================] - 6s - loss: 0.2816 - acc: 0.9210 - val_loss: 0.2805 - val_acc: 0.9215\n",
      "Epoch 5/10\n",
      "60000/60000 [==============================] - 6s - loss: 0.2768 - acc: 0.9228 - val_loss: 0.3059 - val_acc: 0.9122\n",
      "Epoch 6/10\n",
      "60000/60000 [==============================] - 6s - loss: 0.2733 - acc: 0.9242 - val_loss: 0.2876 - val_acc: 0.9216\n",
      "Epoch 7/10\n",
      "60000/60000 [==============================] - 6s - loss: 0.2710 - acc: 0.9249 - val_loss: 0.3029 - val_acc: 0.9169\n",
      "Epoch 8/10\n",
      "60000/60000 [==============================] - 6s - loss: 0.2695 - acc: 0.9249 - val_loss: 0.2828 - val_acc: 0.9232\n",
      "Epoch 9/10\n",
      "60000/60000 [==============================] - 6s - loss: 0.2678 - acc: 0.9258 - val_loss: 0.2860 - val_acc: 0.9236\n",
      "Epoch 10/10\n",
      "60000/60000 [==============================] - 5s - loss: 0.2659 - acc: 0.9264 - val_loss: 0.2908 - val_acc: 0.9222\n"
     ]
    },
    {
     "data": {
      "text/plain": [
       "<keras.callbacks.History at 0x7f92c6d6a6d0>"
      ]
     },
     "execution_count": 11,
     "metadata": {},
     "output_type": "execute_result"
    }
   ],
   "source": [
    "model.fit(X_train, y_train,validation_data=(X_test, y_test), nb_epoch=nb_epoch)"
   ]
  },
  {
   "cell_type": "markdown",
   "metadata": {},
   "source": [
    "### Is learning rate optimal?\n",
    "\n",
    "default in Adam is 0.001"
   ]
  },
  {
   "cell_type": "code",
   "execution_count": 13,
   "metadata": {
    "collapsed": true
   },
   "outputs": [],
   "source": [
    "model.optimizer.lr = 0.1"
   ]
  },
  {
   "cell_type": "code",
   "execution_count": 14,
   "metadata": {
    "collapsed": false
   },
   "outputs": [
    {
     "name": "stdout",
     "output_type": "stream",
     "text": [
      "Train on 60000 samples, validate on 10000 samples\n",
      "Epoch 1/10\n",
      "60000/60000 [==============================] - 5s - loss: 0.2658 - acc: 0.9259 - val_loss: 0.2951 - val_acc: 0.9222\n",
      "Epoch 2/10\n",
      "60000/60000 [==============================] - 6s - loss: 0.2621 - acc: 0.9274 - val_loss: 0.3062 - val_acc: 0.9130\n",
      "Epoch 3/10\n",
      "60000/60000 [==============================] - 5s - loss: 0.2621 - acc: 0.9272 - val_loss: 0.2981 - val_acc: 0.9225\n",
      "Epoch 4/10\n",
      "60000/60000 [==============================] - 5s - loss: 0.2608 - acc: 0.9283 - val_loss: 0.3013 - val_acc: 0.9156\n",
      "Epoch 5/10\n",
      "60000/60000 [==============================] - 5s - loss: 0.2596 - acc: 0.9277 - val_loss: 0.2972 - val_acc: 0.9226\n",
      "Epoch 6/10\n",
      "60000/60000 [==============================] - 5s - loss: 0.2605 - acc: 0.9270 - val_loss: 0.3031 - val_acc: 0.9188\n",
      "Epoch 7/10\n",
      "60000/60000 [==============================] - 5s - loss: 0.2588 - acc: 0.9273 - val_loss: 0.2962 - val_acc: 0.9216\n",
      "Epoch 8/10\n",
      "60000/60000 [==============================] - 5s - loss: 0.2578 - acc: 0.9285 - val_loss: 0.2979 - val_acc: 0.9218\n",
      "Epoch 9/10\n",
      "60000/60000 [==============================] - 5s - loss: 0.2563 - acc: 0.9294 - val_loss: 0.3002 - val_acc: 0.9204\n",
      "Epoch 10/10\n",
      "60000/60000 [==============================] - 5s - loss: 0.2564 - acc: 0.9289 - val_loss: 0.2924 - val_acc: 0.9226\n"
     ]
    },
    {
     "data": {
      "text/plain": [
       "<keras.callbacks.History at 0x7f92d2e1ff50>"
      ]
     },
     "execution_count": 14,
     "metadata": {},
     "output_type": "execute_result"
    }
   ],
   "source": [
    "model.fit(X_train, y_train,validation_data=(X_test, y_test), nb_epoch=nb_epoch)"
   ]
  },
  {
   "cell_type": "code",
   "execution_count": 16,
   "metadata": {
    "collapsed": true
   },
   "outputs": [],
   "source": [
    "model.optimizer.lr = 0.0001"
   ]
  },
  {
   "cell_type": "code",
   "execution_count": 17,
   "metadata": {
    "collapsed": false
   },
   "outputs": [
    {
     "name": "stdout",
     "output_type": "stream",
     "text": [
      "Train on 60000 samples, validate on 10000 samples\n",
      "Epoch 1/15\n",
      "60000/60000 [==============================] - 5s - loss: 0.2557 - acc: 0.9286 - val_loss: 0.2927 - val_acc: 0.9205\n",
      "Epoch 2/15\n",
      "60000/60000 [==============================] - 6s - loss: 0.2555 - acc: 0.9294 - val_loss: 0.2944 - val_acc: 0.9239\n",
      "Epoch 3/15\n",
      "60000/60000 [==============================] - 5s - loss: 0.2557 - acc: 0.9279 - val_loss: 0.2934 - val_acc: 0.9227\n",
      "Epoch 4/15\n",
      "60000/60000 [==============================] - 5s - loss: 0.2550 - acc: 0.9284 - val_loss: 0.2887 - val_acc: 0.9245\n",
      "Epoch 5/15\n",
      "60000/60000 [==============================] - 5s - loss: 0.2533 - acc: 0.9301 - val_loss: 0.3095 - val_acc: 0.9200\n",
      "Epoch 6/15\n",
      "60000/60000 [==============================] - 5s - loss: 0.2531 - acc: 0.9296 - val_loss: 0.2953 - val_acc: 0.9215\n",
      "Epoch 7/15\n",
      "60000/60000 [==============================] - 5s - loss: 0.2539 - acc: 0.9298 - val_loss: 0.2923 - val_acc: 0.9240\n",
      "Epoch 8/15\n",
      "60000/60000 [==============================] - 5s - loss: 0.2532 - acc: 0.9293 - val_loss: 0.2907 - val_acc: 0.9250\n",
      "Epoch 9/15\n",
      "60000/60000 [==============================] - 6s - loss: 0.2533 - acc: 0.9287 - val_loss: 0.3052 - val_acc: 0.9232\n",
      "Epoch 10/15\n",
      "60000/60000 [==============================] - 9s - loss: 0.2522 - acc: 0.9299 - val_loss: 0.3061 - val_acc: 0.9197\n",
      "Epoch 11/15\n",
      "60000/60000 [==============================] - 9s - loss: 0.2517 - acc: 0.9300 - val_loss: 0.2980 - val_acc: 0.9214\n",
      "Epoch 12/15\n",
      "60000/60000 [==============================] - 9s - loss: 0.2525 - acc: 0.9303 - val_loss: 0.3270 - val_acc: 0.9136\n",
      "Epoch 13/15\n",
      "60000/60000 [==============================] - 9s - loss: 0.2507 - acc: 0.9299 - val_loss: 0.3185 - val_acc: 0.9188\n",
      "Epoch 14/15\n",
      "60000/60000 [==============================] - 5s - loss: 0.2511 - acc: 0.9296 - val_loss: 0.3102 - val_acc: 0.9177\n",
      "Epoch 15/15\n",
      "60000/60000 [==============================] - 7s - loss: 0.2526 - acc: 0.9304 - val_loss: 0.3007 - val_acc: 0.9218\n"
     ]
    },
    {
     "data": {
      "text/plain": [
       "<keras.callbacks.History at 0x7f930dd407d0>"
      ]
     },
     "execution_count": 17,
     "metadata": {},
     "output_type": "execute_result"
    }
   ],
   "source": [
    "model.fit(X_train, y_train,validation_data=(X_test, y_test), nb_epoch=15)"
   ]
  },
  {
   "cell_type": "markdown",
   "metadata": {},
   "source": [
    "Looks like learning rate is already good enough at 0.001 (default value)"
   ]
  },
  {
   "cell_type": "code",
   "execution_count": null,
   "metadata": {
    "collapsed": true
   },
   "outputs": [],
   "source": []
  }
 ],
 "metadata": {
  "anaconda-cloud": {},
  "kernelspec": {
   "display_name": "Python [default]",
   "language": "python",
   "name": "python2"
  },
  "language_info": {
   "codemirror_mode": {
    "name": "ipython",
    "version": 2
   },
   "file_extension": ".py",
   "mimetype": "text/x-python",
   "name": "python",
   "nbconvert_exporter": "python",
   "pygments_lexer": "ipython2",
   "version": "2.7.12"
  }
 },
 "nbformat": 4,
 "nbformat_minor": 2
}
